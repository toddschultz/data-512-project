{
 "cells": [
  {
   "cell_type": "markdown",
   "metadata": {},
   "source": [
    "# 15 Minutes or Less!\n",
    "## Todd Schultz\n",
    "Due: December 10, 2017\n",
    "\n",
    "# Abstract\n",
    "Today's air transportation system has never provided more options for moving about the globe. However, the increase availability of flights has strained resources in the US that were designed and built decades ago for a much smaller air transportation system. Now, delays and cancellations are common in the US air traffic system and generates an enourmous amount wasted time. This report analyzes public domain data from the US Department of Transportation's Bureau of Transportation Statistics to compare the average delays for airports that service the same major metropolitan area. Such airports include O'Hare International Airport and Chicago Midway International Airport for the greater Chicago metropolitan area. The goal is to determine if their is a significant difference in the proportion of delays for the airports and to make recommendations as to which one to choice to most likely avoid delays in excess of 15 minutes. \n",
    "\n",
    "# Introduction/Background\n",
    "The US air transportation offers great freedon and flexibility to move about the globe. However, the entire system has become very complex and interdependent on all the airports and airlines holding their schedules. However, delays and cancelleations are inevitable due to issues such as weather, mechanical failure, and surpriseingly, computer glitches. The delays and cancellations cause a large burden on the passangers in terms of wasted time sitting at airport unnecessarily. Moreover, the data regarding delayed and cancelled flights are pulbicly available from the US Department of Transportation's (US DOT) Bureau of Transportation Statistics and can be analyzed for factors that are correlated to the delays. Previous analysis have been performed on the data and some have been made public through the [Kaggle Datasets Flight Delays and Cancellation](https://www.kaggle.com/usdot/flight-delays) entry. However, the previous analyses focused on createing a predictive model of the delay time for a flight or analysis of on-time performance based on the airline, see [USAToday article](https://www.usatoday.com/story/travel/flights/todayinthesky/2016/01/07/airline-on-time-performance/78407958/). This study takes different approach and will focus on only a single contributing factor to a flight delay, namely the arrival airport. In particular, airports servicing the same metropolitan area will be statistically compared to identify if there are significant difference in the number of flights that are delayed to determine if there is a prefered airport that helps the traveler avoid delays and frustration.  \n",
    "\n",
    "## Human-centered considerations\n",
    "The human-centered data science considerations found in this study are as follows. The first is that the goal is aimed at helping people avoid excess waiting times. Traveling is stressful enough without delays and cancellations so helping avoid them can help reduce the anxiety of traveling and provide a smoother more pleasant experience for all travelers. The second issue is the usability of the results. This study will likely be limited to a statical analysis on historical data. In the US, the data is readily available in the public domain from the US DOT. Unfortunately, this is unlikely to be the case around the world. The conclusions from this study are limited to the year 2015 and do not reflect any changes or improvements in the US air transportation made operational after that year. \n",
    "\n",
    "## Hypothesis\n",
    "The propbability of a delayed flight into airports serving the same metropolitan area are equal. Rejecting the null hypothesis indicates a statistically significant difference in the occurence of delayed flights between the airports."
   ]
  },
  {
   "cell_type": "markdown",
   "metadata": {},
   "source": [
    "# Methodology\n",
    "This study focuses on a single contributing factor to flight arrival delays which is the arrival airport. The goal is to determine if their is a difference in the proportion of flights that are delayed arriving into the airports that service the same metropolitan area regardless if the cuase was environmental or preventable. Thus all causes of the arrival delay will be considered. For simplicity and to avoid undue bias, all cancelled and diverted flights will be removed from the dataset for analysis since a flight can be diverted or cancelled for many reasons and the dataset doesnot contain adequate information to seperate solely the diverted or cancelled flights due to the arrival airport. After the dataset is cleaned the arrival delays will be examined and compared using statistical tests.   \n",
    "\n",
    "The study will begin by selecting New York city as major metropolitan market serviced by three major airports, John F. Kennedy International Airport (JFK), LaGuardia Airport (LGA), and Newark International Airport (EWR). The data will be filtered for those airports and methodology developed to segment the flight delays into preventable causes or environemental causes. Next, the portion of the flight delays and cancellations for the preventable delays for each airport will be counted and the portions relative to the total number of flights for the airport statistically compared. With the methodology validated for a single major metropolitan market, an automated algorithm will be developed to identify additional US airport combinations for comparison. The list will be validated by human review and the analysis repeated on those airport combinations approved through the human review. \n",
    "\n",
    "\n",
    "## Data source\n",
    "The flight delay dataset is available from Kaggle Datasets under a CC0:Public domain license. The dataset is offered as a zip file and is downloaded and extracted manually from the [Kaggle Flight Delays](https://www.kaggle.com/usdot/flight-delays) entry. The dataset consists of three files. \n",
    "1. airlines.csv - lists 14 major IATA airline codes and the airline name.\n",
    "2. airports.csv - lists 322 major airports world-wide providing their IATA code, airport name, city, state, country, latitidue, and longitude \n",
    "3. flights.csv - contains the listing of flights from 2015 with information about the flight, the departure times, arrival times, delays, and a flag for cancellation.\n",
    "\n",
    "The Kaggle dataset is a selection of the data available from the US Department of Transportation (DOT) Bureau of Transportation Statistics, which tracks the on-time performance of domestic flights operated by large air carriers. Summary information on the number of on-time, delayed, canceled and diverted flights appears in DOT's monthly Air Travel Consumer Report, published about 30 days after the month's end, as well as in summary tables posted on this website. The full data files are not provided in this GitHub repo as they exceed the 100 MB file size limit and are readily available on Kaggle Datasets. However, a data file with 100,000 random samples from the full dataset is provided along with support information about the airline and airport codes. The original data source can be found on the [US DOT website](https://www.transportation.gov/airconsumer/air-travel-consumer-reports). "
   ]
  },
  {
   "cell_type": "markdown",
   "metadata": {},
   "source": [
    "## Limitations\n",
    "This study is subjected to limitations regarding any conclusions due to several factors. The largest limiting factor is the limited time scope of the data to be used for analysis. All of the data is from 2015 and does not represent any improvements implemented by the airlines or airport in addressing systematic delay issues. Other limitations center around design decisions regard the definitions of a flight delay. This study uses the US Federal Aviation Administration definition that a flight is considered delayed if it is 15 minitues or later than its scheduled arrival time. Also, a criteria is required to define airports that service the same major metropolitan markets that can be automated. While some major metropolitan markets are easy to define relative to airport that service them, such as Chicago with O'Hare International Airport and Chicago Midway International Airport, others are much more difficult such as the greater Los Angeles area where up to six airports could be considered. To reduce the complexity while maintaing the impact of the study, only major domestic or international airports are considers. This eliminates smaller regional or general aviation airports that most commerical air passangers would not experience. The identified comparible airports is limited by the metric definition and human review. This study is also limited by decision to remove diverted and cancelled flights due to the lack of data regarding the reasons for diverting or cancellation. "
   ]
  },
  {
   "cell_type": "markdown",
   "metadata": {},
   "source": [
    "## Packages\n",
    "The packages used in this notebook are all called here. This allows for easy visibility into the packages used and required to run this notebook. "
   ]
  },
  {
   "cell_type": "code",
   "execution_count": null,
   "metadata": {
    "collapsed": true
   },
   "outputs": [],
   "source": [
    "# Package imports\n",
    "import numpy as np\n",
    "import scipy as sp\n",
    "from statsmodels.stats.multicomp import pairwise_tukeyhsd\n",
    "from statsmodels.stats.proportion import proportions_ztest\n",
    "import pandas as pd\n",
    "import matplotlib.pyplot as plt\n",
    "#%matplotlib notebook\n",
    "%matplotlib inline"
   ]
  },
  {
   "cell_type": "markdown",
   "metadata": {},
   "source": [
    "## Dataset import\n",
    "The full dataset is loaded into memory and cleaned to remove missing values, and to remove the diverted and cancelled flights. "
   ]
  },
  {
   "cell_type": "code",
   "execution_count": null,
   "metadata": {},
   "outputs": [],
   "source": [
    "# Import data\n",
    "# Import delay data from file and filter to NYC airports\n",
    "# delayfile = 'flight-delays\\\\flightssmall.csv'\n",
    "delayfile = 'flight-delays\\\\flights.csv'\n",
    "delaydata = pd.read_csv(delayfile)\n"
   ]
  },
  {
   "cell_type": "code",
   "execution_count": null,
   "metadata": {},
   "outputs": [],
   "source": [
    "# print size of initial dataset\n",
    "ninitial,ncol = delaydata.shape\n",
    "print('Initial dataset size: ' + str(delaydata.shape))\n",
    "\n",
    "# drop missing flights with missing values\n",
    "delaydata.dropna()\n",
    "\n",
    "# remove diverted and cancelled flights\n",
    "delaydata = delaydata[delaydata['DIVERTED'] == 0]\n",
    "delaydata = delaydata[delaydata['CANCELLED'] == 0]\n",
    "\n",
    "# print new size of working dataset and percentage losted\n",
    "nworking,ncol = delaydata.shape\n",
    "print('Final dataset size: ' + str(delaydata.shape))\n",
    "print('Precent of data lost: ' + str(100*(ninitial-nworking)/ninitial))\n"
   ]
  },
  {
   "cell_type": "markdown",
   "metadata": {},
   "source": [
    "Removing the cancelled and diverted flights removed less than 2% of the overall flights and have minimal impact on the study. "
   ]
  },
  {
   "cell_type": "markdown",
   "metadata": {},
   "source": [
    "# Findings\n",
    "This sections describes the individual analysis and results for the unique, individual metropolitan areas. "
   ]
  },
  {
   "cell_type": "markdown",
   "metadata": {},
   "source": [
    "## New York City Airports\n",
    "New York city is serviced by by three major airports, John F. Kennedy International Airport (JFK), LaGuardia Airport (LGA), and Newark International Airport (EWR). These three airports will be compared as for their proportion of delayed flights. First the data for the three airports is seperated out and all NaN values removed from the 'ARRIVAL_DELAY' column. Next, the arrival delays are compare visually using histograms and statistically using t-tests."
   ]
  },
  {
   "cell_type": "code",
   "execution_count": null,
   "metadata": {},
   "outputs": [],
   "source": [
    "# Filter for NYC airports\n",
    "# JFK (93809), LGA 99581, EWR (101830)\n",
    "IJFK = delaydata['DESTINATION_AIRPORT'] == 'JFK'\n",
    "ILGA = delaydata['DESTINATION_AIRPORT'] == 'LGA'\n",
    "IEWR = delaydata['DESTINATION_AIRPORT'] == 'EWR'\n",
    "INYC = np.column_stack((IJFK,ILGA,IEWR)).any(axis=1)\n",
    "jfkdata = delaydata[IJFK]\n",
    "lgadata = delaydata[ILGA]\n",
    "ewrdata = delaydata[IEWR]\n",
    "\n",
    "print('Number of flights for JFK: ' + str(sum(IJFK)))\n",
    "print('Number of flights for LGA: ' + str(sum(ILGA)))\n",
    "print('Number of flights for EWR: ' + str(sum(IEWR)))"
   ]
  },
  {
   "cell_type": "markdown",
   "metadata": {},
   "source": [
    "The number of flights for each of the three airports are similar and greater than 90,000 flights. This should provide sufficient data for statistical analysis. The volume of the flights into each airport are on the same order of magnitude and should not limit the analysis. Next, let's visualize the histograms of the delays for each of the three airports. The histograms are divided into bins of 15 minutes each as the FAA defines a delayed flight by a delay of 15 minutes or greater. This way the first bin represents the number of on-time flights."
   ]
  },
  {
   "cell_type": "code",
   "execution_count": null,
   "metadata": {},
   "outputs": [],
   "source": [
    "# JFK histogram\n",
    "plt.hist(np.array(jfkdata['ARRIVAL_DELAY']),bins=range(0,np.int(jfkdata['ARRIVAL_DELAY'].max()+15),15))\n",
    "plt.title(\"JFK Airport Arrival Delay Histogram\")\n",
    "plt.xlabel(\"Delay (min)\")\n",
    "plt.ylabel(\"Number of flights\")"
   ]
  },
  {
   "cell_type": "code",
   "execution_count": null,
   "metadata": {},
   "outputs": [],
   "source": [
    "# LGA histogram\n",
    "plt.hist(np.array(lgadata['ARRIVAL_DELAY']),bins=range(0,np.int(lgadata['ARRIVAL_DELAY'].max()+15),15))\n",
    "plt.title(\"LGA Airport Arrival Delay Histogram\")\n",
    "plt.xlabel(\"Delay (min)\")\n",
    "plt.ylabel(\"Number of flights\")"
   ]
  },
  {
   "cell_type": "code",
   "execution_count": null,
   "metadata": {},
   "outputs": [],
   "source": [
    "# EWR histogram\n",
    "plt.hist(np.array(ewrdata['ARRIVAL_DELAY']),bins=range(0,np.int(ewrdata['ARRIVAL_DELAY'].max()+15),15))\n",
    "plt.title(\"EWR Airport Arrival Delay Histogram\")\n",
    "plt.xlabel(\"Delay (min)\")\n",
    "plt.ylabel(\"Number of flights\")"
   ]
  },
  {
   "cell_type": "markdown",
   "metadata": {},
   "source": [
    "The histograms show that the majority of flights are delayed less than 15 minutes wit the number of flights approximately exponentially rolling off as the arrival delay increases for all three airports. The scaling of the axis of the histograms also indicate that a few large arrival delays, delays greater than 1,000 minutes are present for each airport. Next, compute and compare the mean arrive delay for the three airports. This is performed using one-way ANOVA, Tukey Honest Significant Differences multiple comparison, to test the differences in mean values. These tests assume an underlying normal  distribution which the histograms above show as invalid for the arrival delay data. However, these methods are known to be robust to violations in their assumptions, but the data are then checked using a Kolmogorov-Smirnov 2-sample test on the pairwise combinations to test for differences in the distributions without a normal assumption. "
   ]
  },
  {
   "cell_type": "code",
   "execution_count": null,
   "metadata": {},
   "outputs": [],
   "source": [
    "# Compute and compare mean\n",
    "d = {'JFK': [np.max(jfkdata['ARRIVAL_DELAY']),np.mean(jfkdata['ARRIVAL_DELAY'])], 'LGA': [np.max(lgadata['ARRIVAL_DELAY']),np.mean(lgadata['ARRIVAL_DELAY'])], 'EWR': [np.max(ewrdata['ARRIVAL_DELAY']),np.mean(ewrdata['ARRIVAL_DELAY'])]}\n",
    "nycmean = pd.DataFrame(data=d,index={'Max','Mean'})\n",
    "nycmean"
   ]
  },
  {
   "cell_type": "code",
   "execution_count": null,
   "metadata": {},
   "outputs": [],
   "source": [
    "# One way ANOVA\n",
    "sp.stats.f_oneway(jfkdata['ARRIVAL_DELAY'],lgadata['ARRIVAL_DELAY'],ewrdata['ARRIVAL_DELAY'])"
   ]
  },
  {
   "cell_type": "code",
   "execution_count": null,
   "metadata": {},
   "outputs": [],
   "source": [
    "# Tukey HSD\n",
    "from statsmodels.stats.multicomp import pairwise_tukeyhsd\n",
    "nycdata = delaydata[INYC]\n",
    "\n",
    "tukey = pairwise_tukeyhsd(endog=nycdata['ARRIVAL_DELAY'],groups=nycdata['DESTINATION_AIRPORT'],alpha=0.05)\n",
    "\n",
    "tukey.plot_simultaneous()    # Plot group confidence intervals\n",
    "plt.xlabel('Arrival delay (minutes)')\n",
    "\n",
    "tukey.summary()              # See test summary"
   ]
  },
  {
   "cell_type": "code",
   "execution_count": null,
   "metadata": {},
   "outputs": [],
   "source": [
    "# Kolmogorov-Smirnov 2-sample test\n",
    "#jfkdata['ARRIVAL_DELAY'],lgadata['ARRIVAL_DELAY'],ewrdata['ARRIVAL_DELAY']\n",
    "print('JFK and LGA')\n",
    "print(sp.stats.ks_2samp(jfkdata['ARRIVAL_DELAY'],lgadata['ARRIVAL_DELAY']))\n",
    "print('JFK adn EWR')\n",
    "print(sp.stats.ks_2samp(jfkdata['ARRIVAL_DELAY'],ewrdata['ARRIVAL_DELAY']))\n",
    "print('LGA and EWR')\n",
    "print(sp.stats.ks_2samp(lgadata['ARRIVAL_DELAY'],ewrdata['ARRIVAL_DELAY']))"
   ]
  },
  {
   "cell_type": "markdown",
   "metadata": {},
   "source": [
    "The results of the one-way ANOVA, the pairwise multiple comparison, and the 2-sample Kolmogorov-Smirnov test reject the null hypothesis (pvalue < 0.05) of equal means for all three pairs of the New York City airports. None of the confidence intervals of the pairwise mean differences include zero nor does the multiple comparison figure show any overlap between the any of the confidence intervals, again showing a statistically significant difference between the means of the arrival delay. \n",
    "\n",
    "Now consider the proportion of flight at that were delayed. Again, teh FAA defines a flight delayed if actually arrival time is 15 minutes later then the scheduled time. "
   ]
  },
  {
   "cell_type": "code",
   "execution_count": null,
   "metadata": {},
   "outputs": [],
   "source": [
    "# Compute and compare proportion of late flights\n",
    "d = {'JFK': np.mean(jfkdata['ARRIVAL_DELAY'] > 15), 'LGA': np.mean(lgadata['ARRIVAL_DELAY'] > 15), 'EWR': np.mean(ewrdata['ARRIVAL_DELAY'] > 15)}\n",
    "nycprops = pd.DataFrame(data=d,index={'Proportion Late'})\n",
    "nycprops"
   ]
  },
  {
   "cell_type": "code",
   "execution_count": null,
   "metadata": {},
   "outputs": [],
   "source": [
    "# Create dataframe to store proportion test results\n",
    "d = {'Airport 1' : pd.Series(['JFK', 'JFK', 'LGA']),\n",
    "     'Airport 2' : pd.Series(['LGA', 'EWR', 'EWR']),\n",
    "     'p-value' : pd.Series([np.nan,np.nan,np.nan])}\n",
    "nycproptest = pd.DataFrame(d)"
   ]
  },
  {
   "cell_type": "code",
   "execution_count": null,
   "metadata": {},
   "outputs": [],
   "source": [
    "# Compare proportions using Proportions Z test\n",
    "props = {'JFK': np.sum(jfkdata['ARRIVAL_DELAY'] > 15), 'LGA': np.sum(lgadata['ARRIVAL_DELAY'] > 15), 'EWR': np.sum(ewrdata['ARRIVAL_DELAY'] > 15)}\n",
    "#props = np.array([np.sum(jfkdata['ARRIVAL_DELAY'] > 15),np.sum(lgadata['ARRIVAL_DELAY'] > 15),np.sum(ewrdata['ARRIVAL_DELAY'] > 15)])\n",
    "tot = {'JFK': np.array(jfkdata['ARRIVAL_DELAY']).size, 'LGA': np.array(lgadata['ARRIVAL_DELAY']).size, 'EWR': np.array(ewrdata['ARRIVAL_DELAY']).size}\n",
    "#tot = np.array([np.array(jfkdata['ARRIVAL_DELAY']).size,np.array(lgadata['ARRIVAL_DELAY']).size,np.array(ewrdata['ARRIVAL_DELAY']).size])\n",
    "\n",
    "#statsmodels.stats.proportion.proportions_ztest(props, tot, value=None, alternative='two-sided', prop_var=False)\n",
    "# JFK and LGA\n",
    "zstat,pval = proportions_ztest([props['JFK'], props['LGA']], [tot['JFK'], tot['LGA']], value=None, alternative='two-sided', prop_var=False)\n",
    "nycproptest.loc[0,'p-value'] = pval\n",
    "\n",
    "# JFK and EWR\n",
    "zstat,pval = proportions_ztest([props['JFK'], props['EWR']], [tot['JFK'], tot['EWR']], value=None, alternative='two-sided', prop_var=False)\n",
    "nycproptest.loc[1,'p-value'] = pval\n",
    "\n",
    "# LGA and EWR\n",
    "zstat,pval = proportions_ztest([props['LGA'], props['EWR']], [tot['LGA'], tot['EWR']], value=None, alternative='two-sided', prop_var=False)\n",
    "nycproptest.loc[2,'p-value'] = pval\n",
    "\n",
    "# display results\n",
    "nycproptest"
   ]
  },
  {
   "cell_type": "markdown",
   "metadata": {},
   "source": [
    "All of the p-values from the proportions Z test reject the null hypothesis and shows a statistically significant difference in the proportions of flights delayed for all three airports. However, the p-value for the comparison of the proportion of delayed flights arriving to JFK and arriving to EWR is only moderately significant with a p-value of 0.073 as compared to the standard 0.05 level of significances. Thus LaGuardia Airport has the highest proportion of flights delayed, 25% and the largest mean arrival delay time of 10.4 minutes.  "
   ]
  },
  {
   "cell_type": "markdown",
   "metadata": {},
   "source": [
    "## Bay Area Aiports\n",
    "The San Francisco bay area is serviced by by three major airports, San Francisco International Airport (SFO), Oakland International Airport (OAK), and Norman Y. Mineta San José International Airport (SJC). These three airports will be compared as for their proportion of delayed flights. First the data for the three airports is seperated out and all NaN values removed from the 'ARRIVAL_DELAY' column. Next, the arrival delays are compare visually using histograms and statistically using t-tests. "
   ]
  },
  {
   "cell_type": "code",
   "execution_count": null,
   "metadata": {},
   "outputs": [],
   "source": [
    "# Filter for Bay area airports\n",
    "# SFO, OAK, SJC\n",
    "ISFO = delaydata['DESTINATION_AIRPORT'] == 'SFO'\n",
    "IOAK = delaydata['DESTINATION_AIRPORT'] == 'OAK'\n",
    "ISJC = delaydata['DESTINATION_AIRPORT'] == 'SJC'\n",
    "IBay = np.column_stack((ISFO,IOAK,ISJC)).any(axis=1)\n",
    "sfodata = delaydata[ISFO]\n",
    "oakdata = delaydata[IOAK]\n",
    "sjcdata = delaydata[ISJC]\n",
    "\n",
    "print('Number of flights for SFO: ' + str(sum(ISFO)))\n",
    "print('Number of flights for OAK: ' + str(sum(IOAK)))\n",
    "print('Number of flights for SJC: ' + str(sum(ISJC)))"
   ]
  },
  {
   "cell_type": "markdown",
   "metadata": {},
   "source": [
    "Here, the Bay area air transportation is dominated by San Francisco International Airport which has over 3 times as many flights as either Oakland International Airport (OAK) nor Norman Y. Mineta San José International Airport. However, a minimum sample size of 37,000 flights should provide a sufficient sample for the analysis. The histograms are divided into bins of 15 minutes each as the FAA defines a delayed flight by a delay of 15 minutes or greater. This way the first bin represents the number of on-time flights."
   ]
  },
  {
   "cell_type": "code",
   "execution_count": null,
   "metadata": {},
   "outputs": [],
   "source": [
    "# SFO histogram\n",
    "plt.hist(np.array(sfodata['ARRIVAL_DELAY']),bins=range(0,np.int(sfodata['ARRIVAL_DELAY'].max()+15),15))\n",
    "plt.title(\"SFO Airport Arrival Delay Histogram\")\n",
    "plt.xlabel(\"Delay (min)\")\n",
    "plt.ylabel(\"Number of flights\")"
   ]
  },
  {
   "cell_type": "code",
   "execution_count": null,
   "metadata": {},
   "outputs": [],
   "source": [
    "# OAK histogram\n",
    "plt.hist(np.array(oakdata['ARRIVAL_DELAY']),bins=range(0,np.int(oakdata['ARRIVAL_DELAY'].max()+15),15))\n",
    "plt.title(\"OAK Airport Arrival Delay Histogram\")\n",
    "plt.xlabel(\"Delay (min)\")\n",
    "plt.ylabel(\"Number of flights\")"
   ]
  },
  {
   "cell_type": "code",
   "execution_count": null,
   "metadata": {},
   "outputs": [],
   "source": [
    "# EWR histogram\n",
    "plt.hist(np.array(sjcdata['ARRIVAL_DELAY']),bins=range(0,np.int(sjcdata['ARRIVAL_DELAY'].max()+15),15))\n",
    "plt.title(\"SJC Airport Arrival Delay Histogram\")\n",
    "plt.xlabel(\"Delay (min)\")\n",
    "plt.ylabel(\"Number of flights\")"
   ]
  },
  {
   "cell_type": "markdown",
   "metadata": {},
   "source": [
    "The histograms show that the majority of flights are delayed less than 15 minutes wit the number of flights approximately exponentially rolling off as the arrival delay increases for all three airports. The scaling of the axis of the histograms also indicate that a few large arrival delays, delays greater than 1,000 minutes are present for each airport. Next, compute and compare the mean arrive delay for the three airports. This is performed using one-way ANOVA, Tukey Honest Significant Differences multiple comparison, to test the differences in mean values. These tests assume an underlying normal  distribution which the histograms above show as invalid for the arrival delay data. However, these methods are known to be robust to violations in their assumptions, but the data are then checked using a Kolmogorov-Smirnov 2-sample test on the pairwise combinations to test for differences in the distributions without a normal assumption. "
   ]
  },
  {
   "cell_type": "code",
   "execution_count": null,
   "metadata": {},
   "outputs": [],
   "source": [
    "# Compute and compare mean\n",
    "d = {'SFO': [np.max(sfodata['ARRIVAL_DELAY']),np.mean(sfodata['ARRIVAL_DELAY'])], 'OAK': [np.max(oakdata['ARRIVAL_DELAY']),np.mean(oakdata['ARRIVAL_DELAY'])], 'SJC': [np.max(sjcdata['ARRIVAL_DELAY']),np.mean(sjcdata['ARRIVAL_DELAY'])]}\n",
    "baymean = pd.DataFrame(data=d,index={'Max','Mean'})\n",
    "baymean"
   ]
  },
  {
   "cell_type": "code",
   "execution_count": null,
   "metadata": {},
   "outputs": [],
   "source": [
    "# One way ANOVA\n",
    "sp.stats.f_oneway(sfodata['ARRIVAL_DELAY'],oakdata['ARRIVAL_DELAY'],sjcdata['ARRIVAL_DELAY'])"
   ]
  },
  {
   "cell_type": "code",
   "execution_count": null,
   "metadata": {},
   "outputs": [],
   "source": [
    "# Tukey HSD\n",
    "data = delaydata[IBay]\n",
    "\n",
    "tukey = pairwise_tukeyhsd(endog=data['ARRIVAL_DELAY'],groups=data['DESTINATION_AIRPORT'],alpha=0.05)\n",
    "\n",
    "tukey.plot_simultaneous()    # Plot group confidence intervals\n",
    "plt.xlabel('Arrival delay (minutes)')\n",
    "\n",
    "tukey.summary()              # See test summary"
   ]
  },
  {
   "cell_type": "code",
   "execution_count": null,
   "metadata": {},
   "outputs": [],
   "source": [
    "# Kolmogorov-Smirnov 2-sample test\n",
    "print('SFO and OAK')\n",
    "print(sp.stats.ks_2samp(sfodata['ARRIVAL_DELAY'],oakdata['ARRIVAL_DELAY']))\n",
    "print('SFO and SJC')\n",
    "print(sp.stats.ks_2samp(sfodata['ARRIVAL_DELAY'],sjcdata['ARRIVAL_DELAY']))\n",
    "print('OAK and SJC')\n",
    "print(sp.stats.ks_2samp(oakdata['ARRIVAL_DELAY'],sjcdata['ARRIVAL_DELAY']))"
   ]
  },
  {
   "cell_type": "markdown",
   "metadata": {},
   "source": [
    "The results of the one-way ANOVA, the pairwise multiple comparison, and the 2-sample Kolmogorov-Smirnov test reject the null hypothesis (pvalue < 0.05) of equal means for OAK and SJC. However, the arrival delays into SFO appear to be significantly longer than the other two aiports. The Kolmogorov-Smirnov 2-sample test results suggests that the distribution of all three sets of the arrival delays are statistically different to a 0.05 level of significantly. \n",
    "\n",
    "Now consider the proportion of flight at that were delayed. Again, the FAA defines a flight delayed if actually arrival time is 15 minutes later then the scheduled time. "
   ]
  },
  {
   "cell_type": "code",
   "execution_count": null,
   "metadata": {},
   "outputs": [],
   "source": [
    "# Compute and compare proportion of late flights\n",
    "d = {'SFO': np.mean(sfodata['ARRIVAL_DELAY'] > 15), 'OAK': np.mean(oakdata['ARRIVAL_DELAY'] > 15), 'SJC': np.mean(sjcdata['ARRIVAL_DELAY'] > 15)}\n",
    "bayprops = pd.DataFrame(data=d,index={'Proportion Late'})\n",
    "bayprops"
   ]
  },
  {
   "cell_type": "code",
   "execution_count": null,
   "metadata": {},
   "outputs": [],
   "source": [
    "# Create dataframe to store proportion test results\n",
    "d = {'Airport 1' : pd.Series(['SFO', 'SFO', 'OAK']),\n",
    "     'Airport 2' : pd.Series(['OAK', 'SJC', 'SJC']),\n",
    "     'p-value' : pd.Series([np.nan,np.nan,np.nan])}\n",
    "bayproptest = pd.DataFrame(d)"
   ]
  },
  {
   "cell_type": "code",
   "execution_count": null,
   "metadata": {},
   "outputs": [],
   "source": [
    "# Compare proportions using Proportions Z test\n",
    "props = {'SFO': np.sum(sfodata['ARRIVAL_DELAY'] > 15), 'OAK': np.sum(oakdata['ARRIVAL_DELAY'] > 15), 'SJC': np.sum(sjcdata['ARRIVAL_DELAY'] > 15)}\n",
    "tot = {'SFO': np.array(sfodata['ARRIVAL_DELAY']).size, 'OAK': np.array(oakdata['ARRIVAL_DELAY']).size, 'SJC': np.array(sjcdata['ARRIVAL_DELAY']).size}\n",
    "\n",
    "#statsmodels.stats.proportion.proportions_ztest(props, tot, value=None, alternative='two-sided', prop_var=False)\n",
    "# SFO and OAK\n",
    "zstat,pval = proportions_ztest([props['SFO'], props['OAK']], [tot['SFO'], tot['OAK']], value=None, alternative='two-sided', prop_var=False)\n",
    "bayproptest.loc[0,'p-value'] = pval\n",
    "\n",
    "# SFO and SJC\n",
    "zstat,pval = proportions_ztest([props['SFO'], props['SJC']], [tot['SFO'], tot['SJC']], value=None, alternative='two-sided', prop_var=False)\n",
    "bayproptest.loc[1,'p-value'] = pval\n",
    "\n",
    "# OAK and SJC\n",
    "zstat,pval = proportions_ztest([props['OAK'], props['SJC']], [tot['OAK'], tot['SJC']], value=None, alternative='two-sided', prop_var=False)\n",
    "bayproptest.loc[2,'p-value'] = pval\n",
    "\n",
    "# display results\n",
    "bayproptest"
   ]
  },
  {
   "cell_type": "markdown",
   "metadata": {},
   "source": [
    "All of the p-values from the proportions Z test reject the null hypothesis and shows a statistically significant difference in the proportions of flights delayed for all three airports. Thus the San Francisco International Airport has the highest proportion of flights delayed, 22%, and the largest mean arrival delay time of 6.6 minutes.  "
   ]
  },
  {
   "cell_type": "markdown",
   "metadata": {},
   "source": [
    "## Chicago Airports\n",
    "Chicago is serviced by by two major airports, O'Hare International Airport (ORD), and Midway International Airport (MDW). These three airports will be compared as for their proportion of delayed flights. First the data for the three airports is seperated out and all NaN values removed from the 'ARRIVAL_DELAY' column. Next, the arrival delays are compare visually using histograms and statistically using t-tests."
   ]
  },
  {
   "cell_type": "code",
   "execution_count": null,
   "metadata": {},
   "outputs": [],
   "source": [
    "# Filter for NYC airports\n",
    "IORD = delaydata['DESTINATION_AIRPORT'] == 'ORD'\n",
    "IMDW = delaydata['DESTINATION_AIRPORT'] == 'MDW'\n",
    "ICHI = np.column_stack((IORD,IMDW)).any(axis=1)\n",
    "orddata = delaydata[IORD]\n",
    "mdwdata = delaydata[IMDW]\n",
    "\n",
    "print('Number of flights for ORD: ' + str(sum(IORD)))\n",
    "print('Number of flights for MDW: ' + str(sum(IMDW)))"
   ]
  },
  {
   "cell_type": "markdown",
   "metadata": {},
   "source": [
    "The number of flights for O'Hare International Airport is 3.5 times as many flights as for Midway International Airport. Still a minimum of over 78,000 flights should should provide sufficient data for statistical analysis. Next, let's visualize the histograms of the delays for each of the three airports. The histograms are divided into bins of 15 minutes each as the FAA defines a delayed flight by a delay of 15 minutes or greater. This way the first bin represents the number of on-time flights."
   ]
  },
  {
   "cell_type": "code",
   "execution_count": null,
   "metadata": {},
   "outputs": [],
   "source": [
    "# ORD histogram\n",
    "plt.hist(np.array(orddata['ARRIVAL_DELAY']),bins=range(0,np.int(orddata['ARRIVAL_DELAY'].max()+15),15))\n",
    "plt.title(\"ORD Airport Arrival Delay Histogram\")\n",
    "plt.xlabel(\"Delay (min)\")\n",
    "plt.ylabel(\"Number of flights\")"
   ]
  },
  {
   "cell_type": "code",
   "execution_count": null,
   "metadata": {},
   "outputs": [],
   "source": [
    "# MDW histogram\n",
    "plt.hist(np.array(mdwdata['ARRIVAL_DELAY']),bins=range(0,np.int(mdwdata['ARRIVAL_DELAY'].max()+15),15))\n",
    "plt.title(\"MDW Airport Arrival Delay Histogram\")\n",
    "plt.xlabel(\"Delay (min)\")\n",
    "plt.ylabel(\"Number of flights\")"
   ]
  },
  {
   "cell_type": "markdown",
   "metadata": {},
   "source": [
    "The histograms show that the majority of flights are delayed less than 15 minutes with the number of flights approximately exponentially rolling off as the arrival delay increases for all three airports. Midway Internation airport had no arrival flight delays greater than 604 minutes whereas O'Hare International aiport had arrival delays inexcess of 1,600 minutes or 27.3 hours. Next, compute and compare the mean arrive delay for the three airports. This is performed using one-way ANOVA, Tukey Honest Significant Differences multiple comparison, to test the differences in mean values. These tests assume an underlying normal  distribution which the histograms above show as invalid for the arrival delay data. However, these methods are known to be robust to violations in their assumptions, but the data are then checked using a Kolmogorov-Smirnov 2-sample test on the pairwise combinations to test for differences in the distributions without a normal assumption. "
   ]
  },
  {
   "cell_type": "code",
   "execution_count": null,
   "metadata": {},
   "outputs": [],
   "source": [
    "# Compute and compare mean\n",
    "d = {'ORD': [np.max(orddata['ARRIVAL_DELAY']),np.mean(orddata['ARRIVAL_DELAY'])], 'MDW': [np.max(mdwdata['ARRIVAL_DELAY']),np.mean(mdwdata['ARRIVAL_DELAY'])]}\n",
    "chimean = pd.DataFrame(data=d,index={'Max','Mean'})\n",
    "chimean"
   ]
  },
  {
   "cell_type": "code",
   "execution_count": null,
   "metadata": {},
   "outputs": [],
   "source": [
    "# One way ANOVA\n",
    "sp.stats.f_oneway(orddata['ARRIVAL_DELAY'],mdwdata['ARRIVAL_DELAY'])"
   ]
  },
  {
   "cell_type": "code",
   "execution_count": null,
   "metadata": {},
   "outputs": [],
   "source": [
    "# Tukey HSD\n",
    "from statsmodels.stats.multicomp import pairwise_tukeyhsd\n",
    "chidata = delaydata[ICHI]\n",
    "\n",
    "tukey = pairwise_tukeyhsd(endog=chidata['ARRIVAL_DELAY'],groups=chidata['DESTINATION_AIRPORT'],alpha=0.05)\n",
    "\n",
    "#tukey.plot_simultaneous()    # Plot group confidence intervals, doesn't work with only two group but also not necessary\n",
    "#plt.xlabel('Arrival delay (minutes)')\n",
    "\n",
    "tukey.summary()              # See test summary"
   ]
  },
  {
   "cell_type": "code",
   "execution_count": null,
   "metadata": {},
   "outputs": [],
   "source": [
    "# Kolmogorov-Smirnov 2-sample test\n",
    "print('ORD and MDW')\n",
    "print(sp.stats.ks_2samp(orddata['ARRIVAL_DELAY'],mdwdata['ARRIVAL_DELAY']))"
   ]
  },
  {
   "cell_type": "markdown",
   "metadata": {},
   "source": [
    "The results of the one-way ANOVA, the pairwise multiple comparison, and the 2-sample Kolmogorov-Smirnov test reject the null hypothesis (pvalue < 0.05) of equal means for all three pairs of the New York City airports. None of the confidence intervals of the pairwise mean differences include zero nor does the multiple comparison figure show any overlap between the any of the confidence intervals, again showing a statistically significant difference between the means of the arrival delay. \n",
    "\n",
    "Now consider the proportion of flight at that were delayed. Again, teh FAA defines a flight delayed if actually arrival time is 15 minutes later then the scheduled time. "
   ]
  },
  {
   "cell_type": "code",
   "execution_count": null,
   "metadata": {},
   "outputs": [],
   "source": [
    "# Compute and compare proportion of late flights\n",
    "d = {'ORD': np.mean(orddata['ARRIVAL_DELAY'] > 15), 'MDW': np.mean(mdwdata['ARRIVAL_DELAY'] > 15)}\n",
    "chiprops = pd.DataFrame(data=d,index={'Proportion Late'})\n",
    "chiprops"
   ]
  },
  {
   "cell_type": "code",
   "execution_count": null,
   "metadata": {},
   "outputs": [],
   "source": [
    "# Create dataframe to store proportion test results\n",
    "d = {'Airport 1' : pd.Series(['ORD']),\n",
    "     'Airport 2' : pd.Series(['MDW']),\n",
    "     'p-value' : pd.Series([np.nan])}\n",
    "chiproptest = pd.DataFrame(d)\n",
    "chiproptest"
   ]
  },
  {
   "cell_type": "code",
   "execution_count": null,
   "metadata": {},
   "outputs": [],
   "source": [
    "# Compare proportions using Proportions Z test\n",
    "props = {'ORD': np.sum(orddata['ARRIVAL_DELAY'] > 15), 'MDW': np.sum(mdwdata['ARRIVAL_DELAY'] > 15)}\n",
    "tot = {'ORD': np.array(orddata['ARRIVAL_DELAY']).size, 'MDW': np.array(mdwdata['ARRIVAL_DELAY']).size}\n",
    "\n",
    "#statsmodels.stats.proportion.proportions_ztest(props, tot, value=None, alternative='two-sided', prop_var=False)\n",
    "# ORD and MDW\n",
    "zstat,pval = proportions_ztest([props['ORD'], props['MDW']], [tot['ORD'], tot['MDW']], value=None, alternative='two-sided', prop_var=False)\n",
    "chiproptest.loc[0,'p-value'] = pval\n",
    "\n",
    "# display results\n",
    "chiproptest"
   ]
  },
  {
   "cell_type": "markdown",
   "metadata": {},
   "source": [
    "All of the p-values from the proportions Z test reject the null hypothesis and shows a statistically significant difference in the proportions of flights delayed for all three airports. \n",
    "\n",
    "However, the p-value for the comparison of the proportion of delayed flights arriving to JFK and arriving to EWR is only moderately significant with a p-value of 0.073 as compared to the standard 0.05 level of significances. \n",
    "\n",
    "Thus Chicago International Airport has the highest proportion of flights delayed, XX% and the largest mean arrival delay time of XX minutes.  "
   ]
  },
  {
   "cell_type": "markdown",
   "metadata": {},
   "source": [
    "# Conclusion\n",
    "definitely differences in the proportions of late arrivals and the mean arrival delay time between airport. Can use as traveler to pick which airport to fly to to avoid delays and save time. Airport people can look and see if improvements are needed. \n",
    "\n",
    "# Future Work\n",
    "Expend to other cities\n",
    "take into account other factors, probably lead to prediction model"
   ]
  },
  {
   "cell_type": "markdown",
   "metadata": {},
   "source": [
    "# References\n",
    "Kaggle data set entry\n",
    "USA Today article"
   ]
  }
 ],
 "metadata": {
  "anaconda-cloud": {},
  "kernelspec": {
   "display_name": "Python 3",
   "language": "python",
   "name": "python3"
  },
  "language_info": {
   "codemirror_mode": {
    "name": "ipython",
    "version": 3
   },
   "file_extension": ".py",
   "mimetype": "text/x-python",
   "name": "python",
   "nbconvert_exporter": "python",
   "pygments_lexer": "ipython3",
   "version": "3.6.2"
  }
 },
 "nbformat": 4,
 "nbformat_minor": 2
}
