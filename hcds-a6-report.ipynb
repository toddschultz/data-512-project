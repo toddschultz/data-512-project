{
 "cells": [
  {
   "cell_type": "markdown",
   "metadata": {},
   "source": [
    "# 15 Minutes or Less!\n",
    "## Todd Schultz\n",
    "Due: December 10, 2017\n",
    "\n",
    "# Abstract\n",
    "Today's air transportation system has never provided more options for moving about the globe. However, the increase availability of flights has strained resources in the US that were designed and built decades ago for a much smaller air transportation system. Now, delays and cancellations are common in the US air traffic system and generates an enourmous amount wasted time. The goal of this study is to provide information to US travelers to help ease the frustrations of arrival delays. Thus, this report analyzes public domain data from the US Department of Transportation's Bureau of Transportation Statistics to compare the average delays for airports that service the same major metropolitan area. The results show a significant difference in proportion of arrival flights delayed and mean arrival delay at airports servicing the same metropolitan area. In particular, JFK International Airport for New York City, Oakland International Airport or San Jose International Airport for the Bay Area, and Midway International Airport for Chicago have a lower proportion of arrival flights delayed and a shorter mean arrival flight delay as compared to the other airports in the respective metropolitan areas. \n",
    "\n",
    "# Introduction\n",
    "The US air transportation offers great freedon and flexibility to move about the globe. However, the entire system has become very complex and interdependent on all the airports and airlines holding their schedules. Therefore, delays and cancelleations are inevitable due to issues such as weather, mechanical failure, and surpriseingly, computer glitches. The delays and cancellations cause a large burden on the airlines in terms of wasted time and fuel and on passangers in terms of wasted time sitting at airport unnecessarily. Moreover, the data regarding delayed and cancelled flights are pulbicly available from the US Department of Transportation's (US DOT) Bureau of Transportation Statistics and can be analyzed for factors that are correlated to the delays and cancellations. \n",
    "\n",
    "Previous analysis have been performed on the data and some have been made public through the [Kaggle Datasets Flight Delays and Cancellation](https://www.kaggle.com/usdot/flight-delays) entry. However, the previous analyses focused on createing a predictive model of the delay time for a flight or analysis of on-time performance based on the airline, or a general comparison of all airports, see [USAToday article](https://www.usatoday.com/story/travel/flights/todayinthesky/2016/01/07/airline-on-time-performance/78407958/). This study takes different approach and will focus on only a single contributing factor to a flight delay, namely the arrival airport. In particular, airports servicing the same metropolitan area will be statistically compared to identify if there is a significant difference in the number of flights that are delayed to determine and if there is a significant difference in the mean arrive delay. This information can then be used by travelers when purchasing airline tickets to choose airports that offer less delays and hopefully, avoiding stress and frustration.  \n",
    "\n",
    "Three major metropolitan areas are analyzed below. The first metropolitan area is New York City which is service by three major international airports, which are John F. Kennedy International Airport (JFK), LaGuardia Airport (LGA), and Newark International Airport (EWR). The second metropolitan area is the San Francisco Bay area which is serviced by three major international airports, which are San Francisco International Airport (SFO), Oakland International Airport (OAK), and Norman Y. Mineta San José International Airport (SJC). The final metropolitan area is the greater Chicago area, which is serviced by two major international airpart, which are O'Hare International Airport (ORD), and Midway International Airport (MDW). An interesting note with the Chicago airports is that the secondary airport, Midway International Airport, is dominated by a single, discount airline Southwest Airlines. \n",
    "\n",
    "## Human-centered considerations\n",
    "The goal of this study is aimed at helping travelers avoid excess waiting times. Traveling is stressful enough without delays and cancellations so helping avoid them can help reduce the anxiety of traveling and provide a smoother, more pleasant experience for all travelers. However, the usability of the results could be an issue for the traveler. This study is a static analysis of a single year of data. While the author believes the data is representative of the air traffic system this has not been verified and cannot include any improvements made after the period of the historic data. Improving the analysis to be dynamic and available side-by-side with ticket prices would be more impactful to the traveler. \n",
    "\n",
    "The results of this study could also have wider implications to the airport operators, the airlines, and the Federal Aviation Administration. The airport operators could use the data and results to benchmark their performance against competitor airports and use it as a marketing advantage or justification to seek funding for facility improvements. The airlines could use the data to decide which airports to focus on for a given metropolitan area. This in turn could impact the noise pollution levels for the residences around the airports with the noise levels directly increasing with an increase in air traffic. Finally, the regulators such as the FAA could use the data to implement rules to help improve the overall efficient of the air traffic system and to persuade under performing airports to implement improvement efforts. \n",
    "\n",
    "## Hypothesis\n",
    "The propbability of a delayed flight into airports serving the same metropolitan area are equal. Rejecting the null hypothesis indicates a statistically significant difference in the occurence of delayed flights between the airports."
   ]
  },
  {
   "cell_type": "markdown",
   "metadata": {},
   "source": [
    "# Methodology\n",
    "This study focuses on a single contributing factor to flight arrival delays which is the arrival airport. The goal is to determine if their is a difference in the mean delay and if their is a difference in the proportion of flights that are delayed arriving into the airports that service the same metropolitan area regardless of the cause of the delay. For simplicity and to avoid undue bias, All cancelled and diverted flights are removed from the dataset for analysis for simplicity and to avoid undue bias. Flights can be diverted for cancelled for many reasons that include reasons other than the arrival airport and the dataset used here doesn't contain the necessary information to filter out just the flight diverted or cancelled due to the arrival airport. Next, a metropolitan area is selected and the master dataset filtered into individual datasets for each airport servicing the selected metropolitan area and the following analysis repeated. \n",
    "\n",
    "Frist, the histograms are created for each airport to visualize the distribution of the arrival delays for each airport. The bin size for the histograms is selected to be 15 minutes such that the first histogram bin represents on-time arrival per the FAA definition. Then the arrival delays are compared for a significant difference in the mean value using one-way analysis of variance and a pairwise Tukey Honest Significant Differences multiple comparison to find which airport pairs are significantly different. However, both of these tests assume a normal distribution of data, which not accurate for delay or wait data. To check the applicability of the results a Kolmogorov-Smirnov two-sample test is performed on each pair of airports for the select city. This statistical test tests that two samples were from the same distribution without making a normal distribution assumptions. Next, the proportion of arrival flights delays is computed for each airport and compared pair-wise using a proportions Z test. A level of significance of 0.05 is used to judge statistical significance of all comparison tests. \n",
    "\n",
    "\n",
    "## Data source\n",
    "The flight delay dataset is available from Kaggle Datasets under a CC0:Public domain license. The dataset is offered as a zip file and is downloaded and extracted manually from the [Kaggle Flight Delays](https://www.kaggle.com/usdot/flight-delays) entry. The dataset consists of three files. \n",
    "1. airlines.csv - lists 14 major IATA airline codes and the airline name.\n",
    "2. airports.csv - lists 322 major airports world-wide providing their IATA code, airport name, city, state, country, latitidue, and longitude \n",
    "3. flights.csv - contains the listing of flights from 2015 with information about the flight, the departure times, arrival times, delays, and a flag for cancellation.\n",
    "\n",
    "The Kaggle dataset is a selection of the data available from the US Department of Transportation (DOT) Bureau of Transportation Statistics, which tracks the on-time performance of domestic flights operated by large air carriers. Summary information on the number of on-time, delayed, canceled and diverted flights appears in DOT's monthly Air Travel Consumer Report, published about 30 days after the month's end, as well as in summary tables posted on this website. The full data files are not provided in this GitHub repo as they exceed the 100 MB file size limit and are readily available on Kaggle Datasets. However, a data file with 100,000 random samples from the full dataset is provided along with support information about the airline and airport codes. The original data source can be found on the [US DOT website](https://www.transportation.gov/airconsumer/air-travel-consumer-reports). \n",
    "\n",
    "## Limitations\n",
    "This study is subjected to limitations regarding any conclusions due to several factors. The largest limiting factor is the limited time scope of the data to be used for analysis. All of the data is from 2015 and does not represent any improvements implemented by the airlines or airport in addressing systematic delay issues since the begining of 2016. The second largest limitation is focusing on a single contributing factor, the arrival airport. There may be confound effects with other contributing factors such as departing airport, airline, weather, and flight route. Studying only the single contributing factor should provide insight to the main effects of the arrival airport as the arrival flights should be respresentative of the population with the effects of the other contributing factors averaging out. Another important limitation is the choice of airports to compare for the major metropolitan areas. In some cases the selection of airport is self-evident but in other cases the choice is not clear. Only the major international airports that most travelers via commerical airlines would be exposed to are selected manually. Other subjective or objective criteria could be used to select airports such distance from closest city center, presents of international flights, and the airport size which could be measured by the number of arrivals and departures a year. "
   ]
  },
  {
   "cell_type": "markdown",
   "metadata": {},
   "source": [
    "## Packages\n",
    "The packages used in this notebook are all called here. This allows for easy visibility into the packages used and required to run this notebook. "
   ]
  },
  {
   "cell_type": "code",
   "execution_count": 3,
   "metadata": {
    "collapsed": true
   },
   "outputs": [],
   "source": [
    "# Package imports\n",
    "import numpy as np\n",
    "import scipy as sp\n",
    "from statsmodels.stats.multicomp import pairwise_tukeyhsd\n",
    "from statsmodels.stats.proportion import proportions_ztest\n",
    "import pandas as pd\n",
    "import matplotlib.pyplot as plt\n",
    "#%matplotlib notebook\n",
    "%matplotlib inline"
   ]
  },
  {
   "cell_type": "markdown",
   "metadata": {},
   "source": [
    "## Dataset import\n",
    "The full dataset is loaded into memory and cleaned to remove missing values, and to remove the diverted and cancelled flights. "
   ]
  },
  {
   "cell_type": "code",
   "execution_count": 4,
   "metadata": {
    "collapsed": false
   },
   "outputs": [
    {
     "name": "stderr",
     "output_type": "stream",
     "text": [
      "C:\\ProgramData\\Anaconda3\\lib\\site-packages\\IPython\\core\\interactiveshell.py:2698: DtypeWarning: Columns (7,8) have mixed types. Specify dtype option on import or set low_memory=False.\n",
      "  interactivity=interactivity, compiler=compiler, result=result)\n"
     ]
    }
   ],
   "source": [
    "# Import data\n",
    "# Import delay data from file and filter to NYC airports\n",
    "# delayfile = 'flight-delays\\\\flightssmall.csv'\n",
    "delayfile = 'flight-delays\\\\flights.csv'\n",
    "delaydata = pd.read_csv(delayfile)\n"
   ]
  },
  {
   "cell_type": "code",
   "execution_count": 5,
   "metadata": {
    "collapsed": false
   },
   "outputs": [
    {
     "name": "stdout",
     "output_type": "stream",
     "text": [
      "Initial dataset size: (5819079, 31)\n",
      "Final dataset size: (5714008, 31)\n",
      "Precent of data lost: 1.8056293788071962\n"
     ]
    }
   ],
   "source": [
    "# print size of initial dataset\n",
    "ninitial,ncol = delaydata.shape\n",
    "print('Initial dataset size: ' + str(delaydata.shape))\n",
    "\n",
    "# drop missing flights with missing values\n",
    "delaydata.dropna()\n",
    "\n",
    "# remove diverted and cancelled flights\n",
    "delaydata = delaydata[delaydata['DIVERTED'] == 0]\n",
    "delaydata = delaydata[delaydata['CANCELLED'] == 0]\n",
    "\n",
    "# print new size of working dataset and percentage losted\n",
    "nworking,ncol = delaydata.shape\n",
    "print('Final dataset size: ' + str(delaydata.shape))\n",
    "print('Precent of data lost: ' + str(100*(ninitial-nworking)/ninitial))\n"
   ]
  },
  {
   "cell_type": "markdown",
   "metadata": {},
   "source": [
    "Removing the cancelled and diverted flights removed less than 2% of the overall flights and have minimal impact on the study. "
   ]
  },
  {
   "cell_type": "markdown",
   "metadata": {},
   "source": [
    "# Findings\n",
    "This sections describes the individual analysis and results for the unique, individual metropolitan areas. "
   ]
  },
  {
   "cell_type": "markdown",
   "metadata": {},
   "source": [
    "## New York City Airports\n",
    "New York city is serviced by three major airports, John F. Kennedy International Airport (JFK), LaGuardia Airport (LGA), and Newark International Airport (EWR). These three airports will be compared as for their proportion of delayed flights. First the data for the three airports is seperated out and all NaN values removed from the 'ARRIVAL_DELAY' column. Next, the arrival delays are compare visually using histograms and statistically using t-tests."
   ]
  },
  {
   "cell_type": "code",
   "execution_count": 6,
   "metadata": {
    "collapsed": false
   },
   "outputs": [
    {
     "name": "stdout",
     "output_type": "stream",
     "text": [
      "Number of flights for JFK: 91587\n",
      "Number of flights for LGA: 94527\n",
      "Number of flights for EWR: 98223\n"
     ]
    }
   ],
   "source": [
    "# Filter for NYC airports\n",
    "# JFK (93809), LGA 99581, EWR (101830)\n",
    "IJFK = delaydata['DESTINATION_AIRPORT'] == 'JFK'\n",
    "ILGA = delaydata['DESTINATION_AIRPORT'] == 'LGA'\n",
    "IEWR = delaydata['DESTINATION_AIRPORT'] == 'EWR'\n",
    "INYC = np.column_stack((IJFK,ILGA,IEWR)).any(axis=1)\n",
    "jfkdata = delaydata[IJFK]\n",
    "lgadata = delaydata[ILGA]\n",
    "ewrdata = delaydata[IEWR]\n",
    "\n",
    "print('Number of flights for JFK: ' + str(sum(IJFK)))\n",
    "print('Number of flights for LGA: ' + str(sum(ILGA)))\n",
    "print('Number of flights for EWR: ' + str(sum(IEWR)))"
   ]
  },
  {
   "cell_type": "markdown",
   "metadata": {},
   "source": [
    "The number of flights for each of the three airports are similar and greater than 90,000 flights. This should provide sufficient data for statistical analysis. The volume of the flights into each airport are on the same order of magnitude and should not limit the analysis. Next, let's visualize the histograms of the delays for each of the three airports. The histograms are divided into bins of 15 minutes each as the FAA defines a delayed flight by a delay of 15 minutes or greater. This way the first bin represents the number of on-time flights."
   ]
  },
  {
   "cell_type": "code",
   "execution_count": 7,
   "metadata": {
    "collapsed": false
   },
   "outputs": [
    {
     "data": {
      "text/plain": [
       "<matplotlib.text.Text at 0x27483333dd8>"
      ]
     },
     "execution_count": 7,
     "metadata": {},
     "output_type": "execute_result"
    },
    {
     "data": {
      "image/png": "[encoded data removed]",
      "text/plain": [
       "<matplotlib.figure.Figure at 0x2749e075dd8>"
      ]
     },
     "metadata": {},
     "output_type": "display_data"
    }
   ],
   "source": [
    "# JFK histogram\n",
    "plt.hist(np.array(jfkdata['ARRIVAL_DELAY']),bins=range(0,np.int(jfkdata['ARRIVAL_DELAY'].max()+15),15))\n",
    "plt.title(\"JFK Airport Arrival Delay Histogram\")\n",
    "plt.xlabel(\"Delay (min)\")\n",
    "plt.ylabel(\"Number of flights\")"
   ]
  },
  {
   "cell_type": "code",
   "execution_count": 8,
   "metadata": {
    "collapsed": false
   },
   "outputs": [
    {
     "data": {
      "text/plain": [
       "<matplotlib.text.Text at 0x274f037acc0>"
      ]
     },
     "execution_count": 8,
     "metadata": {},
     "output_type": "execute_result"
    },
    {
     "data": {
      "image/png": "[encoded data removed]",
      "text/plain": [
       "<matplotlib.figure.Figure at 0x274d9d2a6a0>"
      ]
     },
     "metadata": {},
     "output_type": "display_data"
    }
   ],
   "source": [
    "# LGA histogram\n",
    "plt.hist(np.array(lgadata['ARRIVAL_DELAY']),bins=range(0,np.int(lgadata['ARRIVAL_DELAY'].max()+15),15))\n",
    "plt.title(\"LGA Airport Arrival Delay Histogram\")\n",
    "plt.xlabel(\"Delay (min)\")\n",
    "plt.ylabel(\"Number of flights\")"
   ]
  },
  {
   "cell_type": "code",
   "execution_count": 9,
   "metadata": {
    "collapsed": false
   },
   "outputs": [
    {
     "data": {
      "text/plain": [
       "<matplotlib.text.Text at 0x274c4654278>"
      ]
     },
     "execution_count": 9,
     "metadata": {},
     "output_type": "execute_result"
    },
    {
     "data": {
      "image/png": "[encoded data removed]",
      "text/plain": [
       "<matplotlib.figure.Figure at 0x274e4008390>"
      ]
     },
     "metadata": {},
     "output_type": "display_data"
    }
   ],
   "source": [
    "# EWR histogram\n",
    "plt.hist(np.array(ewrdata['ARRIVAL_DELAY']),bins=range(0,np.int(ewrdata['ARRIVAL_DELAY'].max()+15),15))\n",
    "plt.title(\"EWR Airport Arrival Delay Histogram\")\n",
    "plt.xlabel(\"Delay (min)\")\n",
    "plt.ylabel(\"Number of flights\")"
   ]
  },
  {
   "cell_type": "markdown",
   "metadata": {},
   "source": [
    "The histograms show that the majority of flights are delayed less than 15 minutes wit the number of flights approximately exponentially rolling off as the arrival delay increases for all three airports. The scaling of the axis of the histograms also indicate that a few large arrival delays, delays greater than 1,000 minutes are present for each airport. Next, compute and compare the mean arrive delay for the three airports. This is performed using one-way ANOVA, Tukey Honest Significant Differences multiple comparison, to test the differences in mean values. These tests assume an underlying normal  distribution which the histograms above show as invalid for the arrival delay data. However, these methods are known to be robust to violations in their assumptions, but the data are then checked using a Kolmogorov-Smirnov 2-sample test on the pairwise combinations to test for differences in the distributions without a normal assumption. "
   ]
  },
  {
   "cell_type": "code",
   "execution_count": 10,
   "metadata": {
    "collapsed": false
   },
   "outputs": [
    {
     "data": {
      "text/html": [
       "<div>\n",
       "<style>\n",
       "    .dataframe thead tr:only-child th {\n",
       "        text-align: right;\n",
       "    }\n",
       "\n",
       "    .dataframe thead th {\n",
       "        text-align: left;\n",
       "    }\n",
       "\n",
       "    .dataframe tbody tr th {\n",
       "        vertical-align: top;\n",
       "    }\n",
       "</style>\n",
       "<table border=\"1\" class=\"dataframe\">\n",
       "  <thead>\n",
       "    <tr style=\"text-align: right;\">\n",
       "      <th></th>\n",
       "      <th>EWR</th>\n",
       "      <th>JFK</th>\n",
       "      <th>LGA</th>\n",
       "    </tr>\n",
       "  </thead>\n",
       "  <tbody>\n",
       "    <tr>\n",
       "      <th>Max</th>\n",
       "      <td>1294.000000</td>\n",
       "      <td>1556.000000</td>\n",
       "      <td>1196.000000</td>\n",
       "    </tr>\n",
       "    <tr>\n",
       "      <th>Mean</th>\n",
       "      <td>7.464891</td>\n",
       "      <td>6.699455</td>\n",
       "      <td>10.396437</td>\n",
       "    </tr>\n",
       "  </tbody>\n",
       "</table>\n",
       "</div>"
      ],
      "text/plain": [
       "              EWR          JFK          LGA\n",
       "Max   1294.000000  1556.000000  1196.000000\n",
       "Mean     7.464891     6.699455    10.396437"
      ]
     },
     "execution_count": 10,
     "metadata": {},
     "output_type": "execute_result"
    }
   ],
   "source": [
    "# Compute and compare mean\n",
    "d = {'JFK': [np.max(jfkdata['ARRIVAL_DELAY']),np.mean(jfkdata['ARRIVAL_DELAY'])], 'LGA': [np.max(lgadata['ARRIVAL_DELAY']),np.mean(lgadata['ARRIVAL_DELAY'])], 'EWR': [np.max(ewrdata['ARRIVAL_DELAY']),np.mean(ewrdata['ARRIVAL_DELAY'])]}\n",
    "nycmean = pd.DataFrame(data=d,index={'Max','Mean'})\n",
    "nycmean"
   ]
  },
  {
   "cell_type": "code",
   "execution_count": 11,
   "metadata": {
    "collapsed": false
   },
   "outputs": [
    {
     "data": {
      "text/plain": [
       "F_onewayResult(statistic=154.77539805744127, pvalue=6.5835766879919641e-68)"
      ]
     },
     "execution_count": 11,
     "metadata": {},
     "output_type": "execute_result"
    }
   ],
   "source": [
    "# One way ANOVA\n",
    "sp.stats.f_oneway(jfkdata['ARRIVAL_DELAY'],lgadata['ARRIVAL_DELAY'],ewrdata['ARRIVAL_DELAY'])"
   ]
  },
  {
   "cell_type": "code",
   "execution_count": 12,
   "metadata": {
    "collapsed": false
   },
   "outputs": [
    {
     "data": {
      "text/html": [
       "<table class=\"simpletable\">\n",
       "<caption>Multiple Comparison of Means - Tukey HSD,FWER=0.05</caption>\n",
       "<tr>\n",
       "  <th>group1</th> <th>group2</th> <th>meandiff</th>  <th>lower</th>  <th>upper</th>  <th>reject</th>\n",
       "</tr>\n",
       "<tr>\n",
       "    <td>EWR</td>    <td>JFK</td>   <td>-0.7654</td> <td>-1.283</td> <td>-0.2479</td>  <td>True</td> \n",
       "</tr>\n",
       "<tr>\n",
       "    <td>EWR</td>    <td>LGA</td>   <td>2.9315</td>  <td>2.4182</td> <td>3.4449</td>   <td>True</td> \n",
       "</tr>\n",
       "<tr>\n",
       "    <td>JFK</td>    <td>LGA</td>    <td>3.697</td>  <td>3.1746</td> <td>4.2194</td>   <td>True</td> \n",
       "</tr>\n",
       "</table>"
      ],
      "text/plain": [
       "<class 'statsmodels.iolib.table.SimpleTable'>"
      ]
     },
     "execution_count": 12,
     "metadata": {},
     "output_type": "execute_result"
    },
    {
     "data": {
      "image/png": "[encoded data removed]",
      "text/plain": [
       "<matplotlib.figure.Figure at 0x2749e1035f8>"
      ]
     },
     "metadata": {},
     "output_type": "display_data"
    }
   ],
   "source": [
    "# Tukey HSD\n",
    "from statsmodels.stats.multicomp import pairwise_tukeyhsd\n",
    "nycdata = delaydata[INYC]\n",
    "\n",
    "tukey = pairwise_tukeyhsd(endog=nycdata['ARRIVAL_DELAY'],groups=nycdata['DESTINATION_AIRPORT'],alpha=0.05)\n",
    "\n",
    "tukey.plot_simultaneous()    # Plot group confidence intervals\n",
    "plt.xlabel('Arrival delay (minutes)')\n",
    "\n",
    "tukey.summary()              # See test summary"
   ]
  },
  {
   "cell_type": "code",
   "execution_count": 13,
   "metadata": {
    "collapsed": false
   },
   "outputs": [
    {
     "name": "stdout",
     "output_type": "stream",
     "text": [
      "JFK and LGA\n",
      "Ks_2sampResult(statistic=0.090181686133527617, pvalue=0.0)\n",
      "JFK adn EWR\n",
      "Ks_2sampResult(statistic=0.053052597252342126, pvalue=2.0269759560571883e-116)\n",
      "LGA and EWR\n",
      "Ks_2sampResult(statistic=0.046907729153106148, pvalue=1.3755048981223102e-92)\n"
     ]
    }
   ],
   "source": [
    "# Kolmogorov-Smirnov 2-sample test\n",
    "#jfkdata['ARRIVAL_DELAY'],lgadata['ARRIVAL_DELAY'],ewrdata['ARRIVAL_DELAY']\n",
    "print('JFK and LGA')\n",
    "print(sp.stats.ks_2samp(jfkdata['ARRIVAL_DELAY'],lgadata['ARRIVAL_DELAY']))\n",
    "print('JFK adn EWR')\n",
    "print(sp.stats.ks_2samp(jfkdata['ARRIVAL_DELAY'],ewrdata['ARRIVAL_DELAY']))\n",
    "print('LGA and EWR')\n",
    "print(sp.stats.ks_2samp(lgadata['ARRIVAL_DELAY'],ewrdata['ARRIVAL_DELAY']))"
   ]
  },
  {
   "cell_type": "markdown",
   "metadata": {},
   "source": [
    "The results of the one-way ANOVA, the pairwise multiple comparison, and the 2-sample Kolmogorov-Smirnov test reject the null hypothesis (pvalue < 0.05) of equal means for all three pairs of the New York City airports. None of the confidence intervals of the pairwise mean differences include zero nor does the multiple comparison figure show any overlap between the any of the confidence intervals, again showing a statistically significant difference between the means of the arrival delay. \n",
    "\n",
    "Now consider the proportion of flight at that were delayed. Again, the FAA defines a flight delayed if actually arrival time is 15 minutes later then the scheduled time. "
   ]
  },
  {
   "cell_type": "code",
   "execution_count": 14,
   "metadata": {
    "collapsed": false
   },
   "outputs": [
    {
     "data": {
      "text/html": [
       "<div>\n",
       "<style>\n",
       "    .dataframe thead tr:only-child th {\n",
       "        text-align: right;\n",
       "    }\n",
       "\n",
       "    .dataframe thead th {\n",
       "        text-align: left;\n",
       "    }\n",
       "\n",
       "    .dataframe tbody tr th {\n",
       "        vertical-align: top;\n",
       "    }\n",
       "</style>\n",
       "<table border=\"1\" class=\"dataframe\">\n",
       "  <thead>\n",
       "    <tr style=\"text-align: right;\">\n",
       "      <th></th>\n",
       "      <th>EWR</th>\n",
       "      <th>JFK</th>\n",
       "      <th>LGA</th>\n",
       "    </tr>\n",
       "  </thead>\n",
       "  <tbody>\n",
       "    <tr>\n",
       "      <th>Proportion Late</th>\n",
       "      <td>0.218014</td>\n",
       "      <td>0.214627</td>\n",
       "      <td>0.254774</td>\n",
       "    </tr>\n",
       "  </tbody>\n",
       "</table>\n",
       "</div>"
      ],
      "text/plain": [
       "                      EWR       JFK       LGA\n",
       "Proportion Late  0.218014  0.214627  0.254774"
      ]
     },
     "execution_count": 14,
     "metadata": {},
     "output_type": "execute_result"
    }
   ],
   "source": [
    "# Compute and compare proportion of late flights\n",
    "d = {'JFK': np.mean(jfkdata['ARRIVAL_DELAY'] > 15), 'LGA': np.mean(lgadata['ARRIVAL_DELAY'] > 15), 'EWR': np.mean(ewrdata['ARRIVAL_DELAY'] > 15)}\n",
    "nycprops = pd.DataFrame(data=d,index={'Proportion Late'})\n",
    "nycprops"
   ]
  },
  {
   "cell_type": "code",
   "execution_count": 15,
   "metadata": {
    "collapsed": true
   },
   "outputs": [],
   "source": [
    "# Create dataframe to store proportion test results\n",
    "d = {'Airport 1' : pd.Series(['JFK', 'JFK', 'LGA']),\n",
    "     'Airport 2' : pd.Series(['LGA', 'EWR', 'EWR']),\n",
    "     'p-value' : pd.Series([np.nan,np.nan,np.nan])}\n",
    "nycproptest = pd.DataFrame(d)"
   ]
  },
  {
   "cell_type": "code",
   "execution_count": 16,
   "metadata": {
    "collapsed": false
   },
   "outputs": [
    {
     "data": {
      "text/html": [
       "<div>\n",
       "<style>\n",
       "    .dataframe thead tr:only-child th {\n",
       "        text-align: right;\n",
       "    }\n",
       "\n",
       "    .dataframe thead th {\n",
       "        text-align: left;\n",
       "    }\n",
       "\n",
       "    .dataframe tbody tr th {\n",
       "        vertical-align: top;\n",
       "    }\n",
       "</style>\n",
       "<table border=\"1\" class=\"dataframe\">\n",
       "  <thead>\n",
       "    <tr style=\"text-align: right;\">\n",
       "      <th></th>\n",
       "      <th>Airport 1</th>\n",
       "      <th>Airport 2</th>\n",
       "      <th>p-value</th>\n",
       "    </tr>\n",
       "  </thead>\n",
       "  <tbody>\n",
       "    <tr>\n",
       "      <th>0</th>\n",
       "      <td>JFK</td>\n",
       "      <td>LGA</td>\n",
       "      <td>1.079466e-92</td>\n",
       "    </tr>\n",
       "    <tr>\n",
       "      <th>1</th>\n",
       "      <td>JFK</td>\n",
       "      <td>EWR</td>\n",
       "      <td>7.329524e-02</td>\n",
       "    </tr>\n",
       "    <tr>\n",
       "      <th>2</th>\n",
       "      <td>LGA</td>\n",
       "      <td>EWR</td>\n",
       "      <td>1.739717e-80</td>\n",
       "    </tr>\n",
       "  </tbody>\n",
       "</table>\n",
       "</div>"
      ],
      "text/plain": [
       "  Airport 1 Airport 2       p-value\n",
       "0       JFK       LGA  1.079466e-92\n",
       "1       JFK       EWR  7.329524e-02\n",
       "2       LGA       EWR  1.739717e-80"
      ]
     },
     "execution_count": 16,
     "metadata": {},
     "output_type": "execute_result"
    }
   ],
   "source": [
    "# Compare proportions using Proportions Z test\n",
    "props = {'JFK': np.sum(jfkdata['ARRIVAL_DELAY'] > 15), 'LGA': np.sum(lgadata['ARRIVAL_DELAY'] > 15), 'EWR': np.sum(ewrdata['ARRIVAL_DELAY'] > 15)}\n",
    "#props = np.array([np.sum(jfkdata['ARRIVAL_DELAY'] > 15),np.sum(lgadata['ARRIVAL_DELAY'] > 15),np.sum(ewrdata['ARRIVAL_DELAY'] > 15)])\n",
    "tot = {'JFK': np.array(jfkdata['ARRIVAL_DELAY']).size, 'LGA': np.array(lgadata['ARRIVAL_DELAY']).size, 'EWR': np.array(ewrdata['ARRIVAL_DELAY']).size}\n",
    "#tot = np.array([np.array(jfkdata['ARRIVAL_DELAY']).size,np.array(lgadata['ARRIVAL_DELAY']).size,np.array(ewrdata['ARRIVAL_DELAY']).size])\n",
    "\n",
    "#statsmodels.stats.proportion.proportions_ztest(props, tot, value=None, alternative='two-sided', prop_var=False)\n",
    "# JFK and LGA\n",
    "zstat,pval = proportions_ztest([props['JFK'], props['LGA']], [tot['JFK'], tot['LGA']], value=None, alternative='two-sided', prop_var=False)\n",
    "nycproptest.loc[0,'p-value'] = pval\n",
    "\n",
    "# JFK and EWR\n",
    "zstat,pval = proportions_ztest([props['JFK'], props['EWR']], [tot['JFK'], tot['EWR']], value=None, alternative='two-sided', prop_var=False)\n",
    "nycproptest.loc[1,'p-value'] = pval\n",
    "\n",
    "# LGA and EWR\n",
    "zstat,pval = proportions_ztest([props['LGA'], props['EWR']], [tot['LGA'], tot['EWR']], value=None, alternative='two-sided', prop_var=False)\n",
    "nycproptest.loc[2,'p-value'] = pval\n",
    "\n",
    "# display results\n",
    "nycproptest"
   ]
  },
  {
   "cell_type": "markdown",
   "metadata": {},
   "source": [
    "All of the p-values from the proportions Z test reject the null hypothesis and shows a statistically significant difference in the proportions of flights delayed for all three airports. However, the p-value for the comparison of the proportion of delayed flights arriving to JFK and arriving to EWR is only moderately significant with a p-value of 0.073 as compared to the standard 0.05 level of significances. Thus LaGuardia Airport has the highest proportion of flights delayed, 25% and the largest mean arrival delay time of 10.4 minutes.  "
   ]
  },
  {
   "cell_type": "markdown",
   "metadata": {},
   "source": [
    "## Bay Area Aiports\n",
    "The San Francisco bay area is serviced by by three major airports, San Francisco International Airport (SFO), Oakland International Airport (OAK), and Norman Y. Mineta San José International Airport (SJC). These three airports will be compared as for their proportion of delayed flights. First the data for the three airports is seperated out and all NaN values removed from the 'ARRIVAL_DELAY' column. Next, the arrival delays are compare visually using histograms and statistically using t-tests. "
   ]
  },
  {
   "cell_type": "code",
   "execution_count": 17,
   "metadata": {
    "collapsed": false
   },
   "outputs": [
    {
     "name": "stdout",
     "output_type": "stream",
     "text": [
      "Number of flights for SFO: 145409\n",
      "Number of flights for OAK: 41686\n",
      "Number of flights for SJC: 37737\n"
     ]
    }
   ],
   "source": [
    "# Filter for Bay area airports\n",
    "# SFO, OAK, SJC\n",
    "ISFO = delaydata['DESTINATION_AIRPORT'] == 'SFO'\n",
    "IOAK = delaydata['DESTINATION_AIRPORT'] == 'OAK'\n",
    "ISJC = delaydata['DESTINATION_AIRPORT'] == 'SJC'\n",
    "IBay = np.column_stack((ISFO,IOAK,ISJC)).any(axis=1)\n",
    "sfodata = delaydata[ISFO]\n",
    "oakdata = delaydata[IOAK]\n",
    "sjcdata = delaydata[ISJC]\n",
    "\n",
    "print('Number of flights for SFO: ' + str(sum(ISFO)))\n",
    "print('Number of flights for OAK: ' + str(sum(IOAK)))\n",
    "print('Number of flights for SJC: ' + str(sum(ISJC)))"
   ]
  },
  {
   "cell_type": "markdown",
   "metadata": {},
   "source": [
    "Here, the Bay area air transportation is dominated by San Francisco International Airport which has over 3 times as many flights as either Oakland International Airport (OAK) nor Norman Y. Mineta San José International Airport. However, a minimum sample size of 37,000 flights should provide a sufficient sample for the analysis. The histograms are divided into bins of 15 minutes each as the FAA defines a delayed flight by a delay of 15 minutes or greater. This way the first bin represents the number of on-time flights."
   ]
  },
  {
   "cell_type": "code",
   "execution_count": 18,
   "metadata": {
    "collapsed": false
   },
   "outputs": [
    {
     "data": {
      "text/plain": [
       "<matplotlib.text.Text at 0x274f85fdc18>"
      ]
     },
     "execution_count": 18,
     "metadata": {},
     "output_type": "execute_result"
    },
    {
     "data": {
      "image/png": "[encoded data removed]",
      "text/plain": [
       "<matplotlib.figure.Figure at 0x274e91233c8>"
      ]
     },
     "metadata": {},
     "output_type": "display_data"
    }
   ],
   "source": [
    "# SFO histogram\n",
    "plt.hist(np.array(sfodata['ARRIVAL_DELAY']),bins=range(0,np.int(sfodata['ARRIVAL_DELAY'].max()+15),15))\n",
    "plt.title(\"SFO Airport Arrival Delay Histogram\")\n",
    "plt.xlabel(\"Delay (min)\")\n",
    "plt.ylabel(\"Number of flights\")"
   ]
  },
  {
   "cell_type": "code",
   "execution_count": 19,
   "metadata": {
    "collapsed": false
   },
   "outputs": [
    {
     "data": {
      "text/plain": [
       "<matplotlib.text.Text at 0x274e9119940>"
      ]
     },
     "execution_count": 19,
     "metadata": {},
     "output_type": "execute_result"
    },
    {
     "data": {
      "image/png": "[encoded data removed]",
      "text/plain": [
       "<matplotlib.figure.Figure at 0x2749e456860>"
      ]
     },
     "metadata": {},
     "output_type": "display_data"
    }
   ],
   "source": [
    "# OAK histogram\n",
    "plt.hist(np.array(oakdata['ARRIVAL_DELAY']),bins=range(0,np.int(oakdata['ARRIVAL_DELAY'].max()+15),15))\n",
    "plt.title(\"OAK Airport Arrival Delay Histogram\")\n",
    "plt.xlabel(\"Delay (min)\")\n",
    "plt.ylabel(\"Number of flights\")"
   ]
  },
  {
   "cell_type": "code",
   "execution_count": 20,
   "metadata": {
    "collapsed": false
   },
   "outputs": [
    {
     "data": {
      "text/plain": [
       "<matplotlib.text.Text at 0x274ed271c50>"
      ]
     },
     "execution_count": 20,
     "metadata": {},
     "output_type": "execute_result"
    },
    {
     "data": {
      "image/png": "[encoded data removed]",
      "text/plain": [
       "<matplotlib.figure.Figure at 0x274ed29b9b0>"
      ]
     },
     "metadata": {},
     "output_type": "display_data"
    }
   ],
   "source": [
    "# EWR histogram\n",
    "plt.hist(np.array(sjcdata['ARRIVAL_DELAY']),bins=range(0,np.int(sjcdata['ARRIVAL_DELAY'].max()+15),15))\n",
    "plt.title(\"SJC Airport Arrival Delay Histogram\")\n",
    "plt.xlabel(\"Delay (min)\")\n",
    "plt.ylabel(\"Number of flights\")"
   ]
  },
  {
   "cell_type": "markdown",
   "metadata": {},
   "source": [
    "The histograms show that the majority of flights are delayed less than 15 minutes wit the number of flights approximately exponentially rolling off as the arrival delay increases for all three airports. The scaling of the axis of the histograms also indicate that a few large arrival delays, delays greater than 1,000 minutes are present for each airport. Next, compute and compare the mean arrive delay for the three airports. This is performed using one-way ANOVA, Tukey Honest Significant Differences multiple comparison, to test the differences in mean values. These tests assume an underlying normal  distribution which the histograms above show as invalid for the arrival delay data. However, these methods are known to be robust to violations in their assumptions, but the data are then checked using a Kolmogorov-Smirnov 2-sample test on the pairwise combinations to test for differences in the distributions without a normal assumption. "
   ]
  },
  {
   "cell_type": "code",
   "execution_count": 21,
   "metadata": {
    "collapsed": false
   },
   "outputs": [
    {
     "data": {
      "text/html": [
       "<div>\n",
       "<style>\n",
       "    .dataframe thead tr:only-child th {\n",
       "        text-align: right;\n",
       "    }\n",
       "\n",
       "    .dataframe thead th {\n",
       "        text-align: left;\n",
       "    }\n",
       "\n",
       "    .dataframe tbody tr th {\n",
       "        vertical-align: top;\n",
       "    }\n",
       "</style>\n",
       "<table border=\"1\" class=\"dataframe\">\n",
       "  <thead>\n",
       "    <tr style=\"text-align: right;\">\n",
       "      <th></th>\n",
       "      <th>OAK</th>\n",
       "      <th>SFO</th>\n",
       "      <th>SJC</th>\n",
       "    </tr>\n",
       "  </thead>\n",
       "  <tbody>\n",
       "    <tr>\n",
       "      <th>Max</th>\n",
       "      <td>519.000000</td>\n",
       "      <td>1120.000000</td>\n",
       "      <td>484.000000</td>\n",
       "    </tr>\n",
       "    <tr>\n",
       "      <th>Mean</th>\n",
       "      <td>4.706904</td>\n",
       "      <td>6.581958</td>\n",
       "      <td>4.206773</td>\n",
       "    </tr>\n",
       "  </tbody>\n",
       "</table>\n",
       "</div>"
      ],
      "text/plain": [
       "             OAK          SFO         SJC\n",
       "Max   519.000000  1120.000000  484.000000\n",
       "Mean    4.706904     6.581958    4.206773"
      ]
     },
     "execution_count": 21,
     "metadata": {},
     "output_type": "execute_result"
    }
   ],
   "source": [
    "# Compute and compare mean\n",
    "d = {'SFO': [np.max(sfodata['ARRIVAL_DELAY']),np.mean(sfodata['ARRIVAL_DELAY'])], 'OAK': [np.max(oakdata['ARRIVAL_DELAY']),np.mean(oakdata['ARRIVAL_DELAY'])], 'SJC': [np.max(sjcdata['ARRIVAL_DELAY']),np.mean(sjcdata['ARRIVAL_DELAY'])]}\n",
    "baymean = pd.DataFrame(data=d,index={'Max','Mean'})\n",
    "baymean"
   ]
  },
  {
   "cell_type": "code",
   "execution_count": 22,
   "metadata": {
    "collapsed": false
   },
   "outputs": [
    {
     "data": {
      "text/plain": [
       "F_onewayResult(statistic=74.985719800398371, pvalue=2.7859436260791062e-33)"
      ]
     },
     "execution_count": 22,
     "metadata": {},
     "output_type": "execute_result"
    }
   ],
   "source": [
    "# One way ANOVA\n",
    "sp.stats.f_oneway(sfodata['ARRIVAL_DELAY'],oakdata['ARRIVAL_DELAY'],sjcdata['ARRIVAL_DELAY'])"
   ]
  },
  {
   "cell_type": "code",
   "execution_count": 23,
   "metadata": {
    "collapsed": false
   },
   "outputs": [
    {
     "data": {
      "text/html": [
       "<table class=\"simpletable\">\n",
       "<caption>Multiple Comparison of Means - Tukey HSD,FWER=0.05</caption>\n",
       "<tr>\n",
       "  <th>group1</th> <th>group2</th> <th>meandiff</th>  <th>lower</th>   <th>upper</th>  <th>reject</th>\n",
       "</tr>\n",
       "<tr>\n",
       "    <td>OAK</td>    <td>SFO</td>   <td>1.8751</td>  <td>1.3605</td>  <td>2.3896</td>   <td>True</td> \n",
       "</tr>\n",
       "<tr>\n",
       "    <td>OAK</td>    <td>SJC</td>   <td>-0.5001</td> <td>-1.1583</td>  <td>0.158</td>   <td>False</td>\n",
       "</tr>\n",
       "<tr>\n",
       "    <td>SFO</td>    <td>SJC</td>   <td>-2.3752</td> <td>-2.9103</td> <td>-1.8401</td>  <td>True</td> \n",
       "</tr>\n",
       "</table>"
      ],
      "text/plain": [
       "<class 'statsmodels.iolib.table.SimpleTable'>"
      ]
     },
     "execution_count": 23,
     "metadata": {},
     "output_type": "execute_result"
    },
    {
     "data": {
      "image/png": "[encoded data removed]",
      "text/plain": [
       "<matplotlib.figure.Figure at 0x2749e488f60>"
      ]
     },
     "metadata": {},
     "output_type": "display_data"
    }
   ],
   "source": [
    "# Tukey HSD\n",
    "data = delaydata[IBay]\n",
    "\n",
    "tukey = pairwise_tukeyhsd(endog=data['ARRIVAL_DELAY'],groups=data['DESTINATION_AIRPORT'],alpha=0.05)\n",
    "\n",
    "tukey.plot_simultaneous()    # Plot group confidence intervals\n",
    "plt.xlabel('Arrival delay (minutes)')\n",
    "\n",
    "tukey.summary()              # See test summary"
   ]
  },
  {
   "cell_type": "code",
   "execution_count": 24,
   "metadata": {
    "collapsed": false
   },
   "outputs": [
    {
     "name": "stdout",
     "output_type": "stream",
     "text": [
      "SFO and OAK\n",
      "Ks_2sampResult(statistic=0.1262835717438533, pvalue=0.0)\n",
      "SFO and SJC\n",
      "Ks_2sampResult(statistic=0.14243378633571277, pvalue=0.0)\n",
      "OAK and SJC\n",
      "Ks_2sampResult(statistic=0.025041604640116677, pvalue=3.120912694294264e-11)\n"
     ]
    }
   ],
   "source": [
    "# Kolmogorov-Smirnov 2-sample test\n",
    "print('SFO and OAK')\n",
    "print(sp.stats.ks_2samp(sfodata['ARRIVAL_DELAY'],oakdata['ARRIVAL_DELAY']))\n",
    "print('SFO and SJC')\n",
    "print(sp.stats.ks_2samp(sfodata['ARRIVAL_DELAY'],sjcdata['ARRIVAL_DELAY']))\n",
    "print('OAK and SJC')\n",
    "print(sp.stats.ks_2samp(oakdata['ARRIVAL_DELAY'],sjcdata['ARRIVAL_DELAY']))"
   ]
  },
  {
   "cell_type": "markdown",
   "metadata": {},
   "source": [
    "The results of the one-way ANOVA, the pairwise multiple comparison, and the 2-sample Kolmogorov-Smirnov test reject the null hypothesis (pvalue < 0.05) of equal means for OAK and SJC. However, the arrival delays into SFO appear to be significantly longer than the other two aiports. The Kolmogorov-Smirnov 2-sample test results suggests that the distribution of all three sets of the arrival delays are statistically different to a 0.05 level of significantly. \n",
    "\n",
    "Now consider the proportion of flight at that were delayed. Again, the FAA defines a flight delayed if actually arrival time is 15 minutes later then the scheduled time. "
   ]
  },
  {
   "cell_type": "code",
   "execution_count": 25,
   "metadata": {
    "collapsed": false
   },
   "outputs": [
    {
     "data": {
      "text/html": [
       "<div>\n",
       "<style>\n",
       "    .dataframe thead tr:only-child th {\n",
       "        text-align: right;\n",
       "    }\n",
       "\n",
       "    .dataframe thead th {\n",
       "        text-align: left;\n",
       "    }\n",
       "\n",
       "    .dataframe tbody tr th {\n",
       "        vertical-align: top;\n",
       "    }\n",
       "</style>\n",
       "<table border=\"1\" class=\"dataframe\">\n",
       "  <thead>\n",
       "    <tr style=\"text-align: right;\">\n",
       "      <th></th>\n",
       "      <th>OAK</th>\n",
       "      <th>SFO</th>\n",
       "      <th>SJC</th>\n",
       "    </tr>\n",
       "  </thead>\n",
       "  <tbody>\n",
       "    <tr>\n",
       "      <th>Proportion Late</th>\n",
       "      <td>0.182435</td>\n",
       "      <td>0.220021</td>\n",
       "      <td>0.173384</td>\n",
       "    </tr>\n",
       "  </tbody>\n",
       "</table>\n",
       "</div>"
      ],
      "text/plain": [
       "                      OAK       SFO       SJC\n",
       "Proportion Late  0.182435  0.220021  0.173384"
      ]
     },
     "execution_count": 25,
     "metadata": {},
     "output_type": "execute_result"
    }
   ],
   "source": [
    "# Compute and compare proportion of late flights\n",
    "d = {'SFO': np.mean(sfodata['ARRIVAL_DELAY'] > 15), 'OAK': np.mean(oakdata['ARRIVAL_DELAY'] > 15), 'SJC': np.mean(sjcdata['ARRIVAL_DELAY'] > 15)}\n",
    "bayprops = pd.DataFrame(data=d,index={'Proportion Late'})\n",
    "bayprops"
   ]
  },
  {
   "cell_type": "code",
   "execution_count": 26,
   "metadata": {
    "collapsed": true
   },
   "outputs": [],
   "source": [
    "# Create dataframe to store proportion test results\n",
    "d = {'Airport 1' : pd.Series(['SFO', 'SFO', 'OAK']),\n",
    "     'Airport 2' : pd.Series(['OAK', 'SJC', 'SJC']),\n",
    "     'p-value' : pd.Series([np.nan,np.nan,np.nan])}\n",
    "bayproptest = pd.DataFrame(d)"
   ]
  },
  {
   "cell_type": "code",
   "execution_count": 27,
   "metadata": {
    "collapsed": false
   },
   "outputs": [
    {
     "data": {
      "text/html": [
       "<div>\n",
       "<style>\n",
       "    .dataframe thead tr:only-child th {\n",
       "        text-align: right;\n",
       "    }\n",
       "\n",
       "    .dataframe thead th {\n",
       "        text-align: left;\n",
       "    }\n",
       "\n",
       "    .dataframe tbody tr th {\n",
       "        vertical-align: top;\n",
       "    }\n",
       "</style>\n",
       "<table border=\"1\" class=\"dataframe\">\n",
       "  <thead>\n",
       "    <tr style=\"text-align: right;\">\n",
       "      <th></th>\n",
       "      <th>Airport 1</th>\n",
       "      <th>Airport 2</th>\n",
       "      <th>p-value</th>\n",
       "    </tr>\n",
       "  </thead>\n",
       "  <tbody>\n",
       "    <tr>\n",
       "      <th>0</th>\n",
       "      <td>SFO</td>\n",
       "      <td>OAK</td>\n",
       "      <td>1.311405e-61</td>\n",
       "    </tr>\n",
       "    <tr>\n",
       "      <th>1</th>\n",
       "      <td>SFO</td>\n",
       "      <td>SJC</td>\n",
       "      <td>2.702459e-87</td>\n",
       "    </tr>\n",
       "    <tr>\n",
       "      <th>2</th>\n",
       "      <td>OAK</td>\n",
       "      <td>SJC</td>\n",
       "      <td>8.710953e-04</td>\n",
       "    </tr>\n",
       "  </tbody>\n",
       "</table>\n",
       "</div>"
      ],
      "text/plain": [
       "  Airport 1 Airport 2       p-value\n",
       "0       SFO       OAK  1.311405e-61\n",
       "1       SFO       SJC  2.702459e-87\n",
       "2       OAK       SJC  8.710953e-04"
      ]
     },
     "execution_count": 27,
     "metadata": {},
     "output_type": "execute_result"
    }
   ],
   "source": [
    "# Compare proportions using Proportions Z test\n",
    "props = {'SFO': np.sum(sfodata['ARRIVAL_DELAY'] > 15), 'OAK': np.sum(oakdata['ARRIVAL_DELAY'] > 15), 'SJC': np.sum(sjcdata['ARRIVAL_DELAY'] > 15)}\n",
    "tot = {'SFO': np.array(sfodata['ARRIVAL_DELAY']).size, 'OAK': np.array(oakdata['ARRIVAL_DELAY']).size, 'SJC': np.array(sjcdata['ARRIVAL_DELAY']).size}\n",
    "\n",
    "#statsmodels.stats.proportion.proportions_ztest(props, tot, value=None, alternative='two-sided', prop_var=False)\n",
    "# SFO and OAK\n",
    "zstat,pval = proportions_ztest([props['SFO'], props['OAK']], [tot['SFO'], tot['OAK']], value=None, alternative='two-sided', prop_var=False)\n",
    "bayproptest.loc[0,'p-value'] = pval\n",
    "\n",
    "# SFO and SJC\n",
    "zstat,pval = proportions_ztest([props['SFO'], props['SJC']], [tot['SFO'], tot['SJC']], value=None, alternative='two-sided', prop_var=False)\n",
    "bayproptest.loc[1,'p-value'] = pval\n",
    "\n",
    "# OAK and SJC\n",
    "zstat,pval = proportions_ztest([props['OAK'], props['SJC']], [tot['OAK'], tot['SJC']], value=None, alternative='two-sided', prop_var=False)\n",
    "bayproptest.loc[2,'p-value'] = pval\n",
    "\n",
    "# display results\n",
    "bayproptest"
   ]
  },
  {
   "cell_type": "markdown",
   "metadata": {},
   "source": [
    "All of the p-values from the proportions Z test reject the null hypothesis and shows a statistically significant difference in the proportions of flights delayed for all three airports. Thus the San Francisco International Airport has the highest proportion of flights delayed, 22%, and the largest mean arrival delay time of 6.6 minutes.  "
   ]
  },
  {
   "cell_type": "markdown",
   "metadata": {},
   "source": [
    "## Chicago Airports\n",
    "Chicago is serviced by by two major airports, O'Hare International Airport (ORD), and Midway International Airport (MDW). These three airports will be compared as for their proportion of delayed flights. First the data for the three airports is seperated out and all NaN values removed from the 'ARRIVAL_DELAY' column. Next, the arrival delays are compare visually using histograms and statistically using t-tests."
   ]
  },
  {
   "cell_type": "code",
   "execution_count": 28,
   "metadata": {
    "collapsed": false
   },
   "outputs": [
    {
     "name": "stdout",
     "output_type": "stream",
     "text": [
      "Number of flights for ORD: 275864\n",
      "Number of flights for MDW: 78478\n"
     ]
    }
   ],
   "source": [
    "# Filter for NYC airports\n",
    "IORD = delaydata['DESTINATION_AIRPORT'] == 'ORD'\n",
    "IMDW = delaydata['DESTINATION_AIRPORT'] == 'MDW'\n",
    "ICHI = np.column_stack((IORD,IMDW)).any(axis=1)\n",
    "orddata = delaydata[IORD]\n",
    "mdwdata = delaydata[IMDW]\n",
    "\n",
    "print('Number of flights for ORD: ' + str(sum(IORD)))\n",
    "print('Number of flights for MDW: ' + str(sum(IMDW)))"
   ]
  },
  {
   "cell_type": "markdown",
   "metadata": {},
   "source": [
    "The number of flights for O'Hare International Airport is 3.5 times as many flights as for Midway International Airport. Still a minimum of over 78,000 flights should should provide sufficient data for statistical analysis. Next, let's visualize the histograms of the delays for each of the three airports. The histograms are divided into bins of 15 minutes each as the FAA defines a delayed flight by a delay of 15 minutes or greater. This way the first bin represents the number of on-time flights."
   ]
  },
  {
   "cell_type": "code",
   "execution_count": 29,
   "metadata": {
    "collapsed": false
   },
   "outputs": [
    {
     "data": {
      "text/plain": [
       "<matplotlib.text.Text at 0x274dde9b2e8>"
      ]
     },
     "execution_count": 29,
     "metadata": {},
     "output_type": "execute_result"
    },
    {
     "data": {
      "image/png": "[encoded data removed]",
      "text/plain": [
       "<matplotlib.figure.Figure at 0x274dde68be0>"
      ]
     },
     "metadata": {},
     "output_type": "display_data"
    }
   ],
   "source": [
    "# ORD histogram\n",
    "plt.hist(np.array(orddata['ARRIVAL_DELAY']),bins=range(0,np.int(orddata['ARRIVAL_DELAY'].max()+15),15))\n",
    "plt.title(\"ORD Airport Arrival Delay Histogram\")\n",
    "plt.xlabel(\"Delay (min)\")\n",
    "plt.ylabel(\"Number of flights\")"
   ]
  },
  {
   "cell_type": "code",
   "execution_count": 30,
   "metadata": {
    "collapsed": false
   },
   "outputs": [
    {
     "data": {
      "text/plain": [
       "<matplotlib.text.Text at 0x274d6c2e7f0>"
      ]
     },
     "execution_count": 30,
     "metadata": {},
     "output_type": "execute_result"
    },
    {
     "data": {
      "image/png": "[encoded data removed]",
      "text/plain": [
       "<matplotlib.figure.Figure at 0x274f13f9320>"
      ]
     },
     "metadata": {},
     "output_type": "display_data"
    }
   ],
   "source": [
    "# MDW histogram\n",
    "plt.hist(np.array(mdwdata['ARRIVAL_DELAY']),bins=range(0,np.int(mdwdata['ARRIVAL_DELAY'].max()+15),15))\n",
    "plt.title(\"MDW Airport Arrival Delay Histogram\")\n",
    "plt.xlabel(\"Delay (min)\")\n",
    "plt.ylabel(\"Number of flights\")"
   ]
  },
  {
   "cell_type": "markdown",
   "metadata": {},
   "source": [
    "The histograms show that the majority of flights are delayed less than 15 minutes with the number of flights approximately exponentially rolling off as the arrival delay increases for all three airports. Midway Internation airport had no arrival flight delays greater than 604 minutes whereas O'Hare International aiport had arrival delays inexcess of 1,600 minutes or 27.3 hours. Next, compute and compare the mean arrive delay for the three airports. This is performed using one-way ANOVA, Tukey Honest Significant Differences multiple comparison, to test the differences in mean values. These tests assume an underlying normal  distribution which the histograms above show as invalid for the arrival delay data. However, these methods are known to be robust to violations in their assumptions, but the data are then checked using a Kolmogorov-Smirnov 2-sample test on the pairwise combinations to test for differences in the distributions without a normal assumption. "
   ]
  },
  {
   "cell_type": "code",
   "execution_count": 31,
   "metadata": {
    "collapsed": false
   },
   "outputs": [
    {
     "data": {
      "text/html": [
       "<div>\n",
       "<style>\n",
       "    .dataframe thead tr:only-child th {\n",
       "        text-align: right;\n",
       "    }\n",
       "\n",
       "    .dataframe thead th {\n",
       "        text-align: left;\n",
       "    }\n",
       "\n",
       "    .dataframe tbody tr th {\n",
       "        vertical-align: top;\n",
       "    }\n",
       "</style>\n",
       "<table border=\"1\" class=\"dataframe\">\n",
       "  <thead>\n",
       "    <tr style=\"text-align: right;\">\n",
       "      <th></th>\n",
       "      <th>MDW</th>\n",
       "      <th>ORD</th>\n",
       "    </tr>\n",
       "  </thead>\n",
       "  <tbody>\n",
       "    <tr>\n",
       "      <th>Max</th>\n",
       "      <td>604.000000</td>\n",
       "      <td>1638.000000</td>\n",
       "    </tr>\n",
       "    <tr>\n",
       "      <th>Mean</th>\n",
       "      <td>2.992877</td>\n",
       "      <td>7.240803</td>\n",
       "    </tr>\n",
       "  </tbody>\n",
       "</table>\n",
       "</div>"
      ],
      "text/plain": [
       "             MDW          ORD\n",
       "Max   604.000000  1638.000000\n",
       "Mean    2.992877     7.240803"
      ]
     },
     "execution_count": 31,
     "metadata": {},
     "output_type": "execute_result"
    }
   ],
   "source": [
    "# Compute and compare mean\n",
    "d = {'ORD': [np.max(orddata['ARRIVAL_DELAY']),np.mean(orddata['ARRIVAL_DELAY'])], 'MDW': [np.max(mdwdata['ARRIVAL_DELAY']),np.mean(mdwdata['ARRIVAL_DELAY'])]}\n",
    "chimean = pd.DataFrame(data=d,index={'Max','Mean'})\n",
    "chimean"
   ]
  },
  {
   "cell_type": "code",
   "execution_count": 32,
   "metadata": {
    "collapsed": false
   },
   "outputs": [
    {
     "data": {
      "text/plain": [
       "F_onewayResult(statistic=501.32018690750579, pvalue=5.860935361365261e-111)"
      ]
     },
     "execution_count": 32,
     "metadata": {},
     "output_type": "execute_result"
    }
   ],
   "source": [
    "# One way ANOVA\n",
    "sp.stats.f_oneway(orddata['ARRIVAL_DELAY'],mdwdata['ARRIVAL_DELAY'])"
   ]
  },
  {
   "cell_type": "code",
   "execution_count": 33,
   "metadata": {
    "collapsed": false
   },
   "outputs": [
    {
     "data": {
      "text/html": [
       "<table class=\"simpletable\">\n",
       "<caption>Multiple Comparison of Means - Tukey HSD,FWER=0.05</caption>\n",
       "<tr>\n",
       "  <th>group1</th> <th>group2</th> <th>meandiff</th>  <th>lower</th>  <th>upper</th> <th>reject</th>\n",
       "</tr>\n",
       "<tr>\n",
       "    <td>MDW</td>    <td>ORD</td>   <td>4.2479</td>  <td>3.8761</td> <td>4.6198</td>  <td>True</td> \n",
       "</tr>\n",
       "</table>"
      ],
      "text/plain": [
       "<class 'statsmodels.iolib.table.SimpleTable'>"
      ]
     },
     "execution_count": 33,
     "metadata": {},
     "output_type": "execute_result"
    }
   ],
   "source": [
    "# Tukey HSD\n",
    "from statsmodels.stats.multicomp import pairwise_tukeyhsd\n",
    "chidata = delaydata[ICHI]\n",
    "\n",
    "tukey = pairwise_tukeyhsd(endog=chidata['ARRIVAL_DELAY'],groups=chidata['DESTINATION_AIRPORT'],alpha=0.05)\n",
    "\n",
    "#tukey.plot_simultaneous()    # Plot group confidence intervals, doesn't work with only two group but also not necessary\n",
    "#plt.xlabel('Arrival delay (minutes)')\n",
    "\n",
    "tukey.summary()              # See test summary"
   ]
  },
  {
   "cell_type": "code",
   "execution_count": 34,
   "metadata": {
    "collapsed": false
   },
   "outputs": [
    {
     "name": "stdout",
     "output_type": "stream",
     "text": [
      "ORD and MDW\n",
      "Ks_2sampResult(statistic=0.052006348505574479, pvalue=4.2615982282650541e-144)\n"
     ]
    }
   ],
   "source": [
    "# Kolmogorov-Smirnov 2-sample test\n",
    "print('ORD and MDW')\n",
    "print(sp.stats.ks_2samp(orddata['ARRIVAL_DELAY'],mdwdata['ARRIVAL_DELAY']))"
   ]
  },
  {
   "cell_type": "markdown",
   "metadata": {},
   "source": [
    "The results of the one-way ANOVA, the pairwise multiple comparison, and the 2-sample Kolmogorov-Smirnov test reject the null hypothesis (pvalue < 0.05) of equal means for all three pairs of the New York City airports. None of the confidence intervals of the pairwise mean differences include zero nor does the multiple comparison figure show any overlap between the any of the confidence intervals, again showing a statistically significant difference between the means of the arrival delay. \n",
    "\n",
    "Now consider the proportion of flight at that were delayed. Again, teh FAA defines a flight delayed if actually arrival time is 15 minutes later then the scheduled time. "
   ]
  },
  {
   "cell_type": "code",
   "execution_count": 35,
   "metadata": {
    "collapsed": false
   },
   "outputs": [
    {
     "data": {
      "text/html": [
       "<div>\n",
       "<style>\n",
       "    .dataframe thead tr:only-child th {\n",
       "        text-align: right;\n",
       "    }\n",
       "\n",
       "    .dataframe thead th {\n",
       "        text-align: left;\n",
       "    }\n",
       "\n",
       "    .dataframe tbody tr th {\n",
       "        vertical-align: top;\n",
       "    }\n",
       "</style>\n",
       "<table border=\"1\" class=\"dataframe\">\n",
       "  <thead>\n",
       "    <tr style=\"text-align: right;\">\n",
       "      <th></th>\n",
       "      <th>MDW</th>\n",
       "      <th>ORD</th>\n",
       "    </tr>\n",
       "  </thead>\n",
       "  <tbody>\n",
       "    <tr>\n",
       "      <th>Proportion Late</th>\n",
       "      <td>0.168391</td>\n",
       "      <td>0.206435</td>\n",
       "    </tr>\n",
       "  </tbody>\n",
       "</table>\n",
       "</div>"
      ],
      "text/plain": [
       "                      MDW       ORD\n",
       "Proportion Late  0.168391  0.206435"
      ]
     },
     "execution_count": 35,
     "metadata": {},
     "output_type": "execute_result"
    }
   ],
   "source": [
    "# Compute and compare proportion of late flights\n",
    "d = {'ORD': np.mean(orddata['ARRIVAL_DELAY'] > 15), 'MDW': np.mean(mdwdata['ARRIVAL_DELAY'] > 15)}\n",
    "chiprops = pd.DataFrame(data=d,index={'Proportion Late'})\n",
    "chiprops"
   ]
  },
  {
   "cell_type": "code",
   "execution_count": 36,
   "metadata": {
    "collapsed": false
   },
   "outputs": [
    {
     "data": {
      "text/html": [
       "<div>\n",
       "<style>\n",
       "    .dataframe thead tr:only-child th {\n",
       "        text-align: right;\n",
       "    }\n",
       "\n",
       "    .dataframe thead th {\n",
       "        text-align: left;\n",
       "    }\n",
       "\n",
       "    .dataframe tbody tr th {\n",
       "        vertical-align: top;\n",
       "    }\n",
       "</style>\n",
       "<table border=\"1\" class=\"dataframe\">\n",
       "  <thead>\n",
       "    <tr style=\"text-align: right;\">\n",
       "      <th></th>\n",
       "      <th>Airport 1</th>\n",
       "      <th>Airport 2</th>\n",
       "      <th>p-value</th>\n",
       "    </tr>\n",
       "  </thead>\n",
       "  <tbody>\n",
       "    <tr>\n",
       "      <th>0</th>\n",
       "      <td>ORD</td>\n",
       "      <td>MDW</td>\n",
       "      <td>NaN</td>\n",
       "    </tr>\n",
       "  </tbody>\n",
       "</table>\n",
       "</div>"
      ],
      "text/plain": [
       "  Airport 1 Airport 2  p-value\n",
       "0       ORD       MDW      NaN"
      ]
     },
     "execution_count": 36,
     "metadata": {},
     "output_type": "execute_result"
    }
   ],
   "source": [
    "# Create dataframe to store proportion test results\n",
    "d = {'Airport 1' : pd.Series(['ORD']),\n",
    "     'Airport 2' : pd.Series(['MDW']),\n",
    "     'p-value' : pd.Series([np.nan])}\n",
    "chiproptest = pd.DataFrame(d)\n",
    "chiproptest"
   ]
  },
  {
   "cell_type": "code",
   "execution_count": 37,
   "metadata": {
    "collapsed": false
   },
   "outputs": [
    {
     "data": {
      "text/html": [
       "<div>\n",
       "<style>\n",
       "    .dataframe thead tr:only-child th {\n",
       "        text-align: right;\n",
       "    }\n",
       "\n",
       "    .dataframe thead th {\n",
       "        text-align: left;\n",
       "    }\n",
       "\n",
       "    .dataframe tbody tr th {\n",
       "        vertical-align: top;\n",
       "    }\n",
       "</style>\n",
       "<table border=\"1\" class=\"dataframe\">\n",
       "  <thead>\n",
       "    <tr style=\"text-align: right;\">\n",
       "      <th></th>\n",
       "      <th>Airport 1</th>\n",
       "      <th>Airport 2</th>\n",
       "      <th>p-value</th>\n",
       "    </tr>\n",
       "  </thead>\n",
       "  <tbody>\n",
       "    <tr>\n",
       "      <th>0</th>\n",
       "      <td>ORD</td>\n",
       "      <td>MDW</td>\n",
       "      <td>4.078702e-123</td>\n",
       "    </tr>\n",
       "  </tbody>\n",
       "</table>\n",
       "</div>"
      ],
      "text/plain": [
       "  Airport 1 Airport 2        p-value\n",
       "0       ORD       MDW  4.078702e-123"
      ]
     },
     "execution_count": 37,
     "metadata": {},
     "output_type": "execute_result"
    }
   ],
   "source": [
    "# Compare proportions using Proportions Z test\n",
    "props = {'ORD': np.sum(orddata['ARRIVAL_DELAY'] > 15), 'MDW': np.sum(mdwdata['ARRIVAL_DELAY'] > 15)}\n",
    "tot = {'ORD': np.array(orddata['ARRIVAL_DELAY']).size, 'MDW': np.array(mdwdata['ARRIVAL_DELAY']).size}\n",
    "\n",
    "#statsmodels.stats.proportion.proportions_ztest(props, tot, value=None, alternative='two-sided', prop_var=False)\n",
    "# ORD and MDW\n",
    "zstat,pval = proportions_ztest([props['ORD'], props['MDW']], [tot['ORD'], tot['MDW']], value=None, alternative='two-sided', prop_var=False)\n",
    "chiproptest.loc[0,'p-value'] = pval\n",
    "\n",
    "# display results\n",
    "chiproptest"
   ]
  },
  {
   "cell_type": "markdown",
   "metadata": {},
   "source": [
    "All of the p-values from the proportions Z test reject the null hypothesis and shows a statistically significant difference in the proportions of flights delayed for all three airports. \n",
    "\n",
    "Thus Chicago International Airport has the highest proportion of flights delayed, 20.6% and the largest mean arrival delay time of 7.2 minutes.  "
   ]
  },
  {
   "cell_type": "markdown",
   "metadata": {},
   "source": [
    "# Conclusion\n",
    "\n",
    "This study investigated the effects of arrival airport to the arrival delay for flights from 2015. Three major metropolitan area were considered, which were New York City, the San Francisco Bay Area, and the greater Chicago area. The results indictated that the airports each metropolitan area had statistically significant differences in the mean arrival delay and the proportion of flights delayed. For New York City, LaGuardia Airport (LGA) had the longest mean arrival delay time and the hightest proportion of arrival flights delayed, whereas John F. Kennedy International Airport (JFK) has the shortest mean arrival delay and the lowest proportion of arrival flights delayed. For the San Francisco Bay area, San Francisco International Airport (SFO) had the longest mean arrival delay time and the hightest proportion of arrival flights delayed. However, there was no statistically singificant difference between the other two airports, Oakland International Airport (OAK), and Norman Y. Mineta San José International Airport (SJC). For Chicago, O'Hare International Airport (ORD) had the longest mean arrival delay time and the hightest proportion of arrival flights delayed but had a much higher volume of arrival fligths, 275,864 flights, compared to Midway International Airport (MDW) at 78,478 flights. The results for Chicago may be confounded with the airline as a contributing factor since Midway International Airport is dominated by single airline company, Southwest Airlines. \n",
    "\n",
    "\n",
    "\n",
    "\n",
    "\n",
    "\n",
    "\n",
    "\n",
    "definitely differences in the proportions of late arrivals and the mean arrival delay time between airport. Can use as traveler to pick which airport to fly to to avoid delays and save time. Airport people can look and see if improvements are needed. Delay not just due to flight volume, see LaGuardia Airport, smaller volumen than Newark International Airport but more delayed flights with longer mean delay duration.\n",
    "\n",
    "\n",
    "\n",
    "\n",
    "\n",
    "## Future Work\n",
    "While this analysis did reach conclusions regarding the three metropolitan areas there is still more to discover. Future work should include expanding to other major metropolitan areas that are serviced by multiple airports, updating the historical data to include new data available from the US Department of Transportation, and to take into account other contributing factors such as airlines, departing city, route, etc. \n",
    "Expend to other cities\n",
    "take into account other factors, probably lead to prediction model"
   ]
  },
  {
   "cell_type": "markdown",
   "metadata": {},
   "source": [
    "# References\n",
    "Kaggle Datasets. \"Flight Delays and Cancellations.\" Retrieved from https://www.kaggle.com/usdot/flight-delays.\n",
    "\n",
    "Baskas, H.(2016 Jan 7). Report reveals the best airlines and airports for on-time performance. USA Today. Retrieved from https://www.usatoday.com/story/travel/flights/todayinthesky/2016/01/07/airline-on-time-performance/78407958/. "
   ]
  }
 ],
 "metadata": {
  "anaconda-cloud": {},
  "kernelspec": {
   "display_name": "Python [default]",
   "language": "python",
   "name": "python3"
  },
  "language_info": {
   "codemirror_mode": {
    "name": "ipython",
    "version": 3
   },
   "file_extension": ".py",
   "mimetype": "text/x-python",
   "name": "python",
   "nbconvert_exporter": "python",
   "pygments_lexer": "ipython3",
   "version": "3.5.2"
  }
 },
 "nbformat": 4,
 "nbformat_minor": 2
}
