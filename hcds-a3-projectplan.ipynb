{
 "cells": [
  {
   "cell_type": "markdown",
   "metadata": {},
   "source": [
    "# 15 Minutes or Less! - Project Plan\n",
    "## Todd Schultz\n",
    "Due: November 9, 2017\n",
    "\n",
    "# Abstract\n",
    "Today's air transportation system has never provided more options for moving about the globe. However, the increase availability of flights has strained resources in the US that were designed and build decades ago for a much smaller air transportation system. Now, delays and cancellations are common in the US air traffic system and generates an enourmous amount waste time. This report analyzes public domain data from the US Department of Transportation's Bureau of Transportation Statistics to compare the average delays for airports that service the same major metropolitan area. Such airports include O'Hare International Airport and Chicago Midway International Airport for the greater Chicago metropolitan area. The goal is to determine if their is a significant difference in the delays for the airports and to make recommendations as to which one to choice to most likely avoid delays in excess of 15 minutes. \n",
    "\n",
    "# Introduction\n",
    "The US air transportation offers great freedon and flexibility to move about the globe. However, the entire system has become very complex and interdependent on all the airports and airlines holding thier schedules. However, delays and cancelleations are inevitable due to issues such as weather, mechanical failure, and surpriseingly, computer glitches. The delays and cancellations cause a large burden on the passangers in terms of wasted time sitting at airport unnecessarily. Moreover, the data regarding delayed and cancelled flights are pulbicly available for the US from the US Department of Transportation's (US DOT) Bureau of Transportation Statistics. This study is designed to take advantage of the US DOT data to compare the delay and cancellation probability of flights for airports that service the same major metropolitan area. \n",
    "\n",
    "## Human-centered considerations\n",
    "The human-centered data science considerations found in this study are as follows. The first is that the goal is aimed at helping people avoid excess waiting times. Traveling is stressful enough without delays and cancellations so helping avoid them can help reduce the anxiety of traveling and provide a smoother more pleasant experience for all travels. The second issue is the usability of the results. This study will likely be limited to a static analysis on historical data. To increase the usefulness and effectiveness for users of the conclusions, the analysis should be a dynamic analysis using the latest data available with a simple online interface and scaled to include the global air transportation system. \n",
    "\n",
    "However, this study is limited by the data available. In the US, the data is readily available in the public domain from the US DOT. Unfortunately, this is unlikely to be the case around the world. The conclusions from this study are limited to the year 2015 and do not reflect any changes or improvements in the US air transportation made operational after that year. \n",
    "\n",
    "## Hypothesis\n",
    "The propbability of a delayed flight into airports serving the same metropolitan area are equal. Rejecting the null hypothesis indicates a statistically significant difference in the occurence of delayed flights between the airports."
   ]
  },
  {
   "cell_type": "markdown",
   "metadata": {},
   "source": [
    "# Data source\n",
    "The flight delay dataset is available from Kaggle Datasets under a CC0:Public domain license. The dataset is offered as a zip file and is downloaded and extracted manually from the Kaggle Flight Delays entry at https://www.kaggle.com/usdot/flight-delays. The dataset consists of three files. \n",
    "1. airlines.csv - lists 14 major IATA airline codes and the airline name.\n",
    "2. airports.csv - lists 322 major airports world-wide providing their IATA code, airport name, city, state, country, latitidue, and longitude \n",
    "3. flights.csv - contains the listing of flights from 2015 with information about the flight, the departure times, arrival times, delays, and a flag for cancellation."
   ]
  },
  {
   "cell_type": "markdown",
   "metadata": {},
   "source": [
    "# Methodology\n",
    "This study will exam the flight delays for various airport combinations with and attempt to separate preventable delays from environmental causes. The main analytical method will test a test to determine if statistically significant difference exists in the portion of flights that are delayed for preventable causes between the airports. However, the analysis methodology must accommodate scenarios with more than two populations, airports. \n",
    "\n",
    "The study will begin by selecting New York city as major metropolitan market serviced by three major airports, John F. Kennedy International Airport (JFK), LaGuardia Airport (LGA), and Newark International Airport (EWR). The data will be filtered for those airports and methodology developed to segment the flight delays into preventable causes or environemental causes. Next, the portional of the flight delays and cancellations for the preventable delays for each airport will be counted and the portionals relative to the total number of flights for the airport statistically compared. With the methodology validated for a single major metropolitan market, an automated algorithm will be developed to identify additional US airport combinations for comparison. The list will be validated by human review and the analysis repeated on those airport combinations approved through the human review. \n",
    "\n",
    "## Possible analytic methods\n",
    "* Chi-squared test (stats.chi2_contingency from scipy.stats)\n",
    "* Fishers exact test\n",
    "* N-anova\n",
    "* Logistic regression"
   ]
  },
  {
   "cell_type": "markdown",
   "metadata": {},
   "source": [
    "# Limitations\n",
    "This study is subjected to limitations regarding any conclusions due to several factors. The largest limiting factor is the limited time scope of the data to be used for analysis. All of the data is from 2015 and does not represent any improvements implemented by the airlines or airport in addressing systematic delay delay issues. Other limitations center around design decisions regard the definitions of a flight delay. This study uses the US Federal Aviation Administration definition that a flight is considered delayed if it is 15 minitues or later than its scheduled arrival time. Also, criteria is required to define airports that service the same major metropolitan markets that can be automated. While some major metropolitan markets are easy to define relative to airport that service them, such as Chicago with O'Hare International Airport and Chicago Midway International Airport, others are much more difficult such as the greater Los Angeles area where up to six airports could be considered. The identified comparible airports is limited by the metric definition and human review. This study will attempt to separate out flight delays due to preventable causes and environmental causes. Some example preventable causes include staffing shortages, mechanical failure of the aircraft, scheduling and routing system problems. Environmental causes mostly consist of weather related isues. However, cancellations due to weather issues can result in aircraft in unscheduled locations, which could have been prevented by a preemptive move of the aircraft before the weather event. This study will still classify those delays or cancellation due to unscheduled aircraft locations as environmental. "
   ]
  }
 ],
 "metadata": {
  "kernelspec": {
   "display_name": "Python 3",
   "language": "python",
   "name": "python3"
  },
  "language_info": {
   "codemirror_mode": {
    "name": "ipython",
    "version": 3
   },
   "file_extension": ".py",
   "mimetype": "text/x-python",
   "name": "python",
   "nbconvert_exporter": "python",
   "pygments_lexer": "ipython3",
   "version": "3.6.2"
  }
 },
 "nbformat": 4,
 "nbformat_minor": 2
}
