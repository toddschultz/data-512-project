{
 "cells": [
  {
   "cell_type": "markdown",
   "metadata": {},
   "source": [
    "# 30 Minutes or Less! - Project Plan\n",
    "## Todd Schultz\n",
    "Due: November 9, 2017\n",
    "\n",
    "# Abstract\n",
    "Today's air transportation system has never provided more options for moving about the globe. However, the increase availability of flights has strained resources in the US that were designed and build decades ago for a much smaller air transportation system. Now, delays and cancellations are common in the US air traffic system and generates an enourmous amount waste time. This report analyzes public domain data from the US Department of Transportation's Bureau of Transportation Statistics to compare the average delays for airports that service the same major metropolitan area. Such airports include O'Hare International Airport and Chicago Midway International Airport for the greater Chicago metropolitan area. The goal is to determine if their is a significant difference in the delays for the airports and to make recommendations as to which one to choice to most likely avoid delays in excess of 30 minutes. \n",
    "\n"
   ]
  },
  {
   "cell_type": "markdown",
   "metadata": {},
   "source": [
    "1)\t30 minutes or less!\n",
    "a)\tWhat airport to choose with the least chance of delays for airports within 30 minutes of each other?\n",
    "i)\tKaggle Flight Delays https://www.kaggle.com/usdot/flight-delays\n",
    "iv)\tU.S. Department of Transportation's (DOT) Bureau of Transportation Statistics (BTS)\n",
    "b)\tScope\n",
    "i)\tUS domestic arrivals only\n",
    "ii)\tNo more than 10 years of delay history\n",
    "iii)\tLimit to select list of cities?\n",
    "c)\tTasks\n",
    "i)\tFind historical datasets of airline delay data\n",
    "ii)\tClean and correlate the datasets\n",
    "iii)\tManually look at one set of airports\n",
    "(1)\tChicago\n",
    "(2)\tNew York\n",
    "iv)\tAlgorithm to find airport within a specified distance of somewhere\n",
    "v)\t\n",
    "d)\tHuman centered concerns\n",
    "i)\tHelp people save time waiting at airports\n",
    "ii)\tImprove airport efficiency, aircraft system efficiency\n",
    "iii)\tDefinition of a delay may differ between people\n",
    "iv)\tFinal interface\n",
    "(1)\tPick city or airport?\n",
    "(2)\tMaximum distance from airport to city?\n"
   ]
  }
 ],
 "metadata": {
  "kernelspec": {
   "display_name": "Python 3",
   "language": "python",
   "name": "python3"
  },
  "language_info": {
   "codemirror_mode": {
    "name": "ipython",
    "version": 3
   },
   "file_extension": ".py",
   "mimetype": "text/x-python",
   "name": "python",
   "nbconvert_exporter": "python",
   "pygments_lexer": "ipython3",
   "version": "3.6.2"
  }
 },
 "nbformat": 4,
 "nbformat_minor": 2
}
