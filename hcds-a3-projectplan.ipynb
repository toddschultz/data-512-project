{
 "cells": [
  {
   "cell_type": "markdown",
   "metadata": {},
   "source": [
    "# 30 Minutes or Less! - Project Plan\n",
    "## Todd Schultz\n",
    "Due: November 9, 2017\n",
    "\n",
    "# Abstract\n",
    "Today's air transportation system has never provided more options for moving about the globe. However, the increase availability of flights has strained resources in the US that were designed and build decades ago for a much smaller air transportation system. Now, delays and cancellations are common in the US air traffic system and generates an enourmous amount waste time. This report analyzes public domain data from the US Department of Transportation's Bureau of Transportation Statistics to compare the average delays for airports that service the same major metropolitan area. Such airports include O'Hare International Airport and Chicago Midway International Airport for the greater Chicago metropolitan area. The goal is to determine if their is a significant difference in the delays for the airports and to make recommendations as to which one to choice to most likely avoid delays in excess of 30 minutes. \n",
    "\n",
    "# Introduction\n",
    "The US air transportation offers great freedon and flexibility to move about the globe. However, the entire system has become very complex and interdependent on all the airports and airlines holding thier schedules. However, delays and cancelleations are inevitable due to issues such as weather, mechanical failure, and surpriseingly, computer glitches. The delays and cancellations cause a large burden on the passangers in terms of wasted time sitting at airport unnecessarily. Moreover, the data regarding delayed and cancelled flights are pulbicly available for the US from the US Department of Transportation's (US DOT) Bureau of Transportation Statistics. This study is designed to take advantage of the US DOT data to compare the delay and cancellation probability of flights for airports that service the same major metropolitan area. \n",
    "\n",
    "\n",
    "\n",
    "\n",
    "## Human-centered considerations\n",
    "The human-centered data science considerations found in this study are as follows. The first is that the goal is aimed at helping people avoid excess waiting times. Traveling is stressful enough without delays and cancellations so helping avoid them can help reduce the anxiety of traveling and provide a smoother more pleasant experience for all travels. The second issue is the usability of the results. This study will likely be limited to a static analysis on historical data. To increase the usefulness and effectiveness for users of the conclusions, the analysis should be a dynamic analysis using the latest data available with a simple online interface and scaled to include the global air transportation system. \n",
    "\n",
    "However, this study is limited by the data available. In the US, the data is readily available in the public domain from the US DOT. Unfortunately, this is unlikely to be the case around the world. The conclusions from this study are limited to the year 2015 and do not reflect any changes or improvements in the US air transportation made operational after that year. \n",
    "\n",
    "## Hypothesis\n",
    "The propbability of a delayed flight into airports serving the same metropolitan area are equal. Rejecting the null hypothesis indicates a statistically significant difference in the occurence of delayed flights between the airports \n",
    "\n",
    "\n",
    "# Plan \n",
    "1. gather underpants\n",
    "2. ?\n",
    "3. profit"
   ]
  },
  {
   "cell_type": "markdown",
   "metadata": {},
   "source": [
    "1)\t30 minutes or less!\n",
    "a)\tWhat airport to choose with the least chance of delays for airports within 30 minutes of each other?\n",
    "i)\tKaggle Flight Delays https://www.kaggle.com/usdot/flight-delays\n",
    "iv)\tU.S. Department of Transportation's (DOT) Bureau of Transportation Statistics (BTS)\n",
    "b)\tScope\n",
    "i)\tUS domestic arrivals only\n",
    "ii)\tNo more than 10 years of delay history\n",
    "iii)\tLimit to select list of cities?\n",
    "c)\tTasks\n",
    "i)\tFind historical datasets of airline delay data\n",
    "ii)\tClean and correlate the datasets\n",
    "iii)\tManually look at one set of airports\n",
    "(1)\tChicago\n",
    "(2)\tNew York\n",
    "iv)\tAlgorithm to find airport within a specified distance of somewhere\n",
    "v)\t\n",
    "d)\tHuman centered concerns\n",
    "i)\tHelp people save time waiting at airports\n",
    "ii)\tImprove airport efficiency, aircraft system efficiency\n",
    "iii)\tDefinition of a delay may differ between people\n",
    "iv)\tFinal interface\n",
    "(1)\tPick city or airport?\n",
    "(2)\tMaximum distance from airport to city?\n"
   ]
  }
 ],
 "metadata": {
  "kernelspec": {
   "display_name": "Python 3",
   "language": "python",
   "name": "python3"
  },
  "language_info": {
   "codemirror_mode": {
    "name": "ipython",
    "version": 3
   },
   "file_extension": ".py",
   "mimetype": "text/x-python",
   "name": "python",
   "nbconvert_exporter": "python",
   "pygments_lexer": "ipython3",
   "version": "3.6.2"
  }
 },
 "nbformat": 4,
 "nbformat_minor": 2
}
